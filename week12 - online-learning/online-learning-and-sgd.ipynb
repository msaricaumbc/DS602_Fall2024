{
 "cells": [
  {
   "cell_type": "markdown",
   "metadata": {},
   "source": [
    "# Chunking/Online Learning and Stochastic/Mini-Batch Gradient Descent\n",
    "\n",
    "\n",
    "## Agenda  \n",
    "- Chunking  \n",
    "- Stochastic gradient descent.    \n",
    "- Working with larger datasets via online learning.  \n",
    "- Simple NLP.  \n",
    "- Topic modeling.  "
   ]
  },
  {
   "cell_type": "markdown",
   "metadata": {},
   "source": [
    "## Chunking\n",
    "Sometimes reading the entire file into memory isn't possible. However, you might be able to summarize the data by reading it in pieces."
   ]
  },
  {
   "cell_type": "code",
   "execution_count": 5,
   "metadata": {},
   "outputs": [
    {
     "data": {
      "text/plain": [
       "<pandas.io.parsers.readers.TextFileReader at 0x12a610cb0>"
      ]
     },
     "execution_count": 5,
     "metadata": {},
     "output_type": "execute_result"
    }
   ],
   "source": [
    "import pandas as pd\n",
    "import numpy as np\n",
    "import matplotlib.pyplot as plt\n",
    "%matplotlib inline\n",
    "\n",
    "dfUrl = 'https://raw.githubusercontent.com/msaricaumbc/DS_data/427906167b1370c0367c0650cc0fc465d0498d4b/ds602/Advertising.csv'\n",
    "\n",
    "df = pd.read_csv(dfUrl, chunksize=5)\n",
    "df"
   ]
  },
  {
   "cell_type": "markdown",
   "metadata": {},
   "source": [
    "> Using the `chunksize` option, we created an iterator for the file instead of the typical DataFrame.\n",
    "\n",
    "We can read over the chunks to get the data in pieces (i.e., chunks)."
   ]
  },
  {
   "cell_type": "code",
   "execution_count": 4,
   "metadata": {},
   "outputs": [],
   "source": [
    "# for chunck in df:\n",
    "#     print(chunck)"
   ]
  },
  {
   "cell_type": "code",
   "execution_count": 6,
   "metadata": {},
   "outputs": [
    {
     "name": "stdout",
     "output_type": "stream",
     "text": [
      "Chunk 1 read. Contains 5. Total records read: 20.\n",
      "Chunk 2 read. Contains 5. Total records read: 40.\n",
      "Chunk 3 read. Contains 5. Total records read: 60.\n",
      "Chunk 4 read. Contains 5. Total records read: 80.\n",
      "Chunk 5 read. Contains 5. Total records read: 100.\n",
      "Chunk 6 read. Contains 5. Total records read: 120.\n",
      "Chunk 7 read. Contains 5. Total records read: 140.\n",
      "Chunk 8 read. Contains 5. Total records read: 160.\n",
      "Chunk 9 read. Contains 5. Total records read: 180.\n",
      "Chunk 10 read. Contains 5. Total records read: 200.\n",
      "Chunk 11 read. Contains 5. Total records read: 220.\n",
      "Chunk 12 read. Contains 5. Total records read: 240.\n",
      "Chunk 13 read. Contains 5. Total records read: 260.\n",
      "Chunk 14 read. Contains 5. Total records read: 280.\n",
      "Chunk 15 read. Contains 5. Total records read: 300.\n",
      "Chunk 16 read. Contains 5. Total records read: 320.\n",
      "Chunk 17 read. Contains 5. Total records read: 340.\n",
      "Chunk 18 read. Contains 5. Total records read: 360.\n",
      "Chunk 19 read. Contains 5. Total records read: 380.\n",
      "Chunk 20 read. Contains 5. Total records read: 400.\n",
      "Chunk 21 read. Contains 5. Total records read: 420.\n",
      "Chunk 22 read. Contains 5. Total records read: 440.\n",
      "Chunk 23 read. Contains 5. Total records read: 460.\n",
      "Chunk 24 read. Contains 5. Total records read: 480.\n",
      "Chunk 25 read. Contains 5. Total records read: 500.\n",
      "Chunk 26 read. Contains 5. Total records read: 520.\n",
      "Chunk 27 read. Contains 5. Total records read: 540.\n",
      "Chunk 28 read. Contains 5. Total records read: 560.\n",
      "Chunk 29 read. Contains 5. Total records read: 580.\n",
      "Chunk 30 read. Contains 5. Total records read: 600.\n",
      "Chunk 31 read. Contains 5. Total records read: 620.\n",
      "Chunk 32 read. Contains 5. Total records read: 640.\n",
      "Chunk 33 read. Contains 5. Total records read: 660.\n",
      "Chunk 34 read. Contains 5. Total records read: 680.\n",
      "Chunk 35 read. Contains 5. Total records read: 700.\n",
      "Chunk 36 read. Contains 5. Total records read: 720.\n",
      "Chunk 37 read. Contains 5. Total records read: 740.\n",
      "Chunk 38 read. Contains 5. Total records read: 760.\n",
      "Chunk 39 read. Contains 5. Total records read: 780.\n",
      "Chunk 40 read. Contains 5. Total records read: 800.\n"
     ]
    },
    {
     "data": {
      "image/png": "[encoded data removed]",
      "text/plain": [
       "<Figure size 640x480 with 1 Axes>"
      ]
     },
     "metadata": {},
     "output_type": "display_data"
    }
   ],
   "source": [
    "channels = dict()\n",
    "features = ['TV', 'radio', 'newspaper', 'sales']\n",
    "records = 0\n",
    "\n",
    "i = 1\n",
    "# each chunk will be 5 rows.\n",
    "for chunk in df:\n",
    "    for feature in features:\n",
    "        channels[feature] = channels.get(feature, 0) + chunk[feature].sum()\n",
    "        records += chunk.shape[0]\n",
    "    print(f'Chunk {i} read. Contains {chunk.shape[0]}. Total records read: {records}.')\n",
    "    i += 1\n",
    "        \n",
    "channels = pd.Series(channels)/records\n",
    "\n",
    "channels[['TV', 'radio', 'newspaper']].plot.barh()\n",
    "plt.title('Average of Advertising Spend by Channel', loc='left')\n",
    "plt.show()"
   ]
  },
  {
   "cell_type": "markdown",
   "metadata": {},
   "source": [
    "## We could also use this for mining very large text documents."
   ]
  },
  {
   "cell_type": "code",
   "execution_count": 7,
   "metadata": {},
   "outputs": [
    {
     "name": "stdout",
     "output_type": "stream",
     "text": [
      "File Name                                             Modified             Size\n",
      "imdb.csv                                       2023-04-30 17:41:14     65862309\n",
      "Extracting all the files now...\n",
      "Done!\n"
     ]
    }
   ],
   "source": [
    "from urllib import request\n",
    "from zipfile import ZipFile\n",
    "\n",
    "def download_file(file_name, url):\n",
    "    res = request.urlopen(url)\n",
    "    with open(file_name,'wb') as file:\n",
    "        file.write(res.read())\n",
    "        \n",
    "def unzip(file_name, path='./'):\n",
    "    # opening the zip file in READ mode \n",
    "    with ZipFile(file_name, 'r') as zip: \n",
    "        # printing all the contents of the zip file \n",
    "        zip.printdir() \n",
    "\n",
    "        # extracting all the files \n",
    "        print('Extracting all the files now...') \n",
    "        zip.extractall(path = path) \n",
    "        print('Done!')\n",
    "        \n",
    "download_file('imdb.zip', 'https://github.com/msaricaumbc/DS_data/blob/master/ds602/imdb2.zip?raw=true')\n",
    "unzip('imdb.zip')"
   ]
  },
  {
   "cell_type": "code",
   "execution_count": 8,
   "metadata": {},
   "outputs": [
    {
     "name": "stdout",
     "output_type": "stream",
     "text": [
      "\u001b[34mdiagrams\u001b[m\u001b[m                      online-learning-and-sgd.ipynb\n",
      "\u001b[34mhomework\u001b[m\u001b[m                      pipeline.pkl\n",
      "imdb.csv                      saving-model.ipynb\n",
      "imdb.csv.zip                  using-saved-model.ipynb\n",
      "imdb.zip\n"
     ]
    }
   ],
   "source": [
    "!ls"
   ]
  },
  {
   "cell_type": "code",
   "execution_count": 9,
   "metadata": {},
   "outputs": [],
   "source": [
    "imdb_filename = 'imdb.csv'"
   ]
  },
  {
   "cell_type": "code",
   "execution_count": 10,
   "metadata": {},
   "outputs": [
    {
     "data": {
      "text/html": [
       "<div>\n",
       "<style scoped>\n",
       "    .dataframe tbody tr th:only-of-type {\n",
       "        vertical-align: middle;\n",
       "    }\n",
       "\n",
       "    .dataframe tbody tr th {\n",
       "        vertical-align: top;\n",
       "    }\n",
       "\n",
       "    .dataframe thead th {\n",
       "        text-align: right;\n",
       "    }\n",
       "</style>\n",
       "<table border=\"1\" class=\"dataframe\">\n",
       "  <thead>\n",
       "    <tr style=\"text-align: right;\">\n",
       "      <th></th>\n",
       "      <th>review</th>\n",
       "      <th>sentiment</th>\n",
       "    </tr>\n",
       "  </thead>\n",
       "  <tbody>\n",
       "    <tr>\n",
       "      <th>0</th>\n",
       "      <td>In 1974, the teenager Martha Moxley (Maggie Gr...</td>\n",
       "      <td>1</td>\n",
       "    </tr>\n",
       "  </tbody>\n",
       "</table>\n",
       "</div>"
      ],
      "text/plain": [
       "                                              review  sentiment\n",
       "0  In 1974, the teenager Martha Moxley (Maggie Gr...          1"
      ]
     },
     "execution_count": 10,
     "metadata": {},
     "output_type": "execute_result"
    }
   ],
   "source": [
    "im = pd.read_csv(imdb_filename, chunksize=1)\n",
    "next(im)"
   ]
  },
  {
   "cell_type": "code",
   "execution_count": 14,
   "metadata": {},
   "outputs": [
    {
     "data": {
      "text/html": [
       "<div>\n",
       "<style scoped>\n",
       "    .dataframe tbody tr th:only-of-type {\n",
       "        vertical-align: middle;\n",
       "    }\n",
       "\n",
       "    .dataframe tbody tr th {\n",
       "        vertical-align: top;\n",
       "    }\n",
       "\n",
       "    .dataframe thead th {\n",
       "        text-align: right;\n",
       "    }\n",
       "</style>\n",
       "<table border=\"1\" class=\"dataframe\">\n",
       "  <thead>\n",
       "    <tr style=\"text-align: right;\">\n",
       "      <th></th>\n",
       "      <th>review</th>\n",
       "      <th>sentiment</th>\n",
       "    </tr>\n",
       "  </thead>\n",
       "  <tbody>\n",
       "    <tr>\n",
       "      <th>4</th>\n",
       "      <td>I recently bought the DVD, forgetting just how...</td>\n",
       "      <td>0</td>\n",
       "    </tr>\n",
       "  </tbody>\n",
       "</table>\n",
       "</div>"
      ],
      "text/plain": [
       "                                              review  sentiment\n",
       "4  I recently bought the DVD, forgetting just how...          0"
      ]
     },
     "execution_count": 14,
     "metadata": {},
     "output_type": "execute_result"
    }
   ],
   "source": [
    "next(im)"
   ]
  },
  {
   "cell_type": "markdown",
   "metadata": {},
   "source": [
    "> Create a word cloud while only importing 1 row at a time."
   ]
  },
  {
   "cell_type": "code",
   "execution_count": 15,
   "metadata": {},
   "outputs": [
    {
     "name": "stdout",
     "output_type": "stream",
     "text": [
      "Completed in 0:00:01.353366\n"
     ]
    }
   ],
   "source": [
    "import datetime\n",
    "words = dict()\n",
    "\n",
    "im = pd.read_csv(imdb_filename, chunksize=50)\n",
    "\n",
    "st = datetime.datetime.now()\n",
    "for chunk in im:\n",
    "    r = chunk['review'].str.split(' ').tolist()[0]\n",
    "    for w in r:\n",
    "        words[w.lower()] = words.get(w.lower(), 0) + 1\n",
    "\n",
    "en = datetime.datetime.now()\n",
    "el = en - st\n",
    "\n",
    "print(f'Completed in {el}')"
   ]
  },
  {
   "cell_type": "code",
   "execution_count": 16,
   "metadata": {},
   "outputs": [
    {
     "name": "stdout",
     "output_type": "stream",
     "text": [
      "Length of new dictionary: 32,530\n"
     ]
    }
   ],
   "source": [
    "print(f'Length of new dictionary: {len(words.keys()):,}')"
   ]
  },
  {
   "cell_type": "code",
   "execution_count": 17,
   "metadata": {},
   "outputs": [
    {
     "data": {
      "text/plain": [
       "{'in': 3544,\n",
       " '1974,': 2,\n",
       " 'the': 12862,\n",
       " 'teenager': 14,\n",
       " 'martha': 7,\n",
       " 'moxley': 1,\n",
       " '(maggie': 1,\n",
       " 'grace)': 1,\n",
       " 'moves': 16,\n",
       " 'to': 5158,\n",
       " 'high-class': 1,\n",
       " 'area': 11,\n",
       " 'of': 5736,\n",
       " 'belle': 2,\n",
       " 'haven,': 1,\n",
       " 'greenwich,': 1,\n",
       " 'connecticut.': 1,\n",
       " 'on': 1250,\n",
       " 'mischief': 1,\n",
       " 'night,': 8,\n",
       " 'eve': 3,\n",
       " 'halloween,': 1,\n",
       " 'she': 540,\n",
       " 'was': 1967,\n",
       " 'murdered': 5,\n",
       " 'backyard': 3,\n",
       " 'her': 700,\n",
       " 'house': 61,\n",
       " 'and': 6174,\n",
       " 'murder': 31,\n",
       " 'remained': 6,\n",
       " 'unsolved.': 2,\n",
       " 'twenty-two': 1,\n",
       " 'years': 143,\n",
       " 'later,': 15,\n",
       " 'writer': 13,\n",
       " 'mark': 20,\n",
       " 'fuhrman': 1,\n",
       " '(christopher': 4,\n",
       " 'meloni),': 1,\n",
       " 'who': 747,\n",
       " 'is': 4145,\n",
       " 'a': 6279,\n",
       " 'former': 20,\n",
       " 'la': 14,\n",
       " 'detective': 12,\n",
       " 'that': 2467,\n",
       " 'has': 612,\n",
       " 'fallen': 3,\n",
       " 'disgrace': 3,\n",
       " 'for': 1723,\n",
       " 'perjury': 1,\n",
       " 'o.j.': 2,\n",
       " 'simpson': 2,\n",
       " 'trial': 3,\n",
       " 'moved': 11,\n",
       " 'idaho,': 1,\n",
       " 'decides': 22,\n",
       " 'investigate': 3,\n",
       " 'case': 33,\n",
       " 'with': 1720,\n",
       " 'his': 1077,\n",
       " 'partner': 7,\n",
       " 'stephen': 16,\n",
       " 'weeks': 6,\n",
       " '(andrew': 2,\n",
       " 'mitchell)': 1,\n",
       " 'purpose': 10,\n",
       " 'writing': 36,\n",
       " 'book.': 14,\n",
       " 'locals': 4,\n",
       " 'squirm': 1,\n",
       " 'do': 280,\n",
       " 'not': 1097,\n",
       " 'welcome': 2,\n",
       " 'them,': 38,\n",
       " 'but': 1480,\n",
       " 'support': 18,\n",
       " 'retired': 5,\n",
       " 'steve': 11,\n",
       " 'carroll': 3,\n",
       " '(robert': 2,\n",
       " 'forster)': 1,\n",
       " 'charge': 5,\n",
       " 'investigation': 5,\n",
       " \"70's,\": 2,\n",
       " 'they': 864,\n",
       " 'discover': 7,\n",
       " 'criminal': 4,\n",
       " 'net': 5,\n",
       " 'power': 24,\n",
       " 'money': 66,\n",
       " 'cover': 25,\n",
       " 'murder.<br': 1,\n",
       " '/><br': 2019,\n",
       " '/>\"murder': 1,\n",
       " 'greenwich\"': 1,\n",
       " 'good': 466,\n",
       " 'tv': 111,\n",
       " 'movie,': 171,\n",
       " 'true': 59,\n",
       " 'story': 357,\n",
       " 'fifteen': 4,\n",
       " 'old': 138,\n",
       " 'girl': 81,\n",
       " 'committed': 12,\n",
       " 'by': 896,\n",
       " 'wealthy': 4,\n",
       " 'whose': 38,\n",
       " 'mother': 49,\n",
       " 'kennedy.': 1,\n",
       " 'powerful': 19,\n",
       " 'rich': 34,\n",
       " 'family': 98,\n",
       " 'used': 59,\n",
       " 'their': 479,\n",
       " 'influence': 6,\n",
       " 'more': 482,\n",
       " 'than': 344,\n",
       " 'twenty': 4,\n",
       " 'years.': 16,\n",
       " 'however,': 95,\n",
       " 'snoopy': 1,\n",
       " 'convicted': 1,\n",
       " 'perjurer': 1,\n",
       " 'able': 36,\n",
       " 'disclose': 1,\n",
       " 'how': 336,\n",
       " 'hideous': 6,\n",
       " 'crime': 16,\n",
       " 'committed.': 1,\n",
       " 'screenplay': 14,\n",
       " 'shows': 84,\n",
       " 'last': 94,\n",
       " 'days': 26,\n",
       " 'parallel,': 1,\n",
       " 'there': 589,\n",
       " 'lack': 37,\n",
       " 'emotion': 9,\n",
       " 'dramatization.': 1,\n",
       " 'my': 464,\n",
       " 'vote': 5,\n",
       " 'seven.<br': 1,\n",
       " '/>title': 3,\n",
       " '(brazil):': 3,\n",
       " 'available': 15,\n",
       " 'after': 282,\n",
       " 'daughter': 26,\n",
       " 'born': 9,\n",
       " '1983,': 3,\n",
       " 'i': 2947,\n",
       " 'needed': 22,\n",
       " 'lose': 15,\n",
       " 'weight.': 1,\n",
       " 'tried': 23,\n",
       " '20': 27,\n",
       " 'minute': 20,\n",
       " 'workout': 2,\n",
       " 'hooked.': 2,\n",
       " 'lost': 50,\n",
       " 'about': 698,\n",
       " '50': 16,\n",
       " 'lbs.': 1,\n",
       " 'it': 2620,\n",
       " 'most': 323,\n",
       " 'weight': 7,\n",
       " 'ever': 200,\n",
       " 'life.': 41,\n",
       " \"can't\": 146,\n",
       " 'believe': 83,\n",
       " 'this': 2868,\n",
       " 'show': 189,\n",
       " 'forgotten.': 1,\n",
       " 'would': 443,\n",
       " 'be': 1007,\n",
       " 'blessing': 4,\n",
       " 'if': 567,\n",
       " 'you': 1116,\n",
       " 'started': 31,\n",
       " 'cable': 10,\n",
       " 'channel': 20,\n",
       " 'strictly': 6,\n",
       " 'exercise': 6,\n",
       " 'included': 12,\n",
       " 'workout.': 1,\n",
       " 'think': 291,\n",
       " 'best': 210,\n",
       " 'video': 39,\n",
       " 'made.': 29,\n",
       " 'wish': 41,\n",
       " 'could': 324,\n",
       " 'purchase': 5,\n",
       " 'somehow': 24,\n",
       " 'somewhere.': 5,\n",
       " 'routine': 13,\n",
       " 'easy': 19,\n",
       " 'learn': 24,\n",
       " 'did': 223,\n",
       " 'work': 108,\n",
       " 'up': 397,\n",
       " 'quite': 131,\n",
       " 'sweat.': 1,\n",
       " 'workouts': 1,\n",
       " 'have': 1098,\n",
       " 'today': 15,\n",
       " 'are': 1118,\n",
       " 'too': 240,\n",
       " 'complicated': 4,\n",
       " 'hard': 103,\n",
       " 'learn.': 1,\n",
       " 'please': 28,\n",
       " 'your': 226,\n",
       " 'get': 352,\n",
       " 'back': 179,\n",
       " 'circulation.': 1,\n",
       " 'pray': 4,\n",
       " 'will': 325,\n",
       " 'all': 776,\n",
       " 'see': 449,\n",
       " 'use': 60,\n",
       " 'it.': 246,\n",
       " 'ordinarily': 1,\n",
       " 'really': 439,\n",
       " 'enjoy': 66,\n",
       " 'movies': 193,\n",
       " 'like': 754,\n",
       " '\"chances': 1,\n",
       " 'are,\"': 2,\n",
       " \"wasn't\": 76,\n",
       " 'satisfied': 1,\n",
       " 'one': 858,\n",
       " 'few': 183,\n",
       " 'reasons.': 10,\n",
       " 'first': 317,\n",
       " 'half': 60,\n",
       " 'pretty': 158,\n",
       " 'well': 218,\n",
       " 'done': 89,\n",
       " 'overall,': 13,\n",
       " 'alex': 15,\n",
       " 'finch': 1,\n",
       " 'dying': 8,\n",
       " 'being': 266,\n",
       " 'reincarnated': 3,\n",
       " 'new': 144,\n",
       " 'body': 36,\n",
       " '(played': 13,\n",
       " 'robert': 41,\n",
       " 'downey': 3,\n",
       " 'jr.).': 1,\n",
       " 'he': 1034,\n",
       " 'meets': 30,\n",
       " 'wife': 51,\n",
       " '(cybill': 1,\n",
       " 'shepherd)': 1,\n",
       " 'friend': 50,\n",
       " '(ryan': 3,\n",
       " \"o'neal)\": 1,\n",
       " 'daughter,': 10,\n",
       " 'now': 132,\n",
       " 'grown': 10,\n",
       " 'up.': 17,\n",
       " 'scenes': 145,\n",
       " 'them': 214,\n",
       " 'meeting': 7,\n",
       " 'again': 92,\n",
       " 'rediscovering': 2,\n",
       " 'once': 78,\n",
       " 'done,': 12,\n",
       " 'amount': 24,\n",
       " 'happiness': 3,\n",
       " 'shepherd': 4,\n",
       " 'finally': 55,\n",
       " 'believes': 6,\n",
       " 'its': 300,\n",
       " 'husband': 27,\n",
       " 'reincarnated,': 1,\n",
       " 'from': 766,\n",
       " 'film': 1005,\n",
       " 'goes': 96,\n",
       " 'downhill.': 1,\n",
       " 'several': 53,\n",
       " 'sex-related': 1,\n",
       " 'turned': 33,\n",
       " 'me': 300,\n",
       " 'off': 178,\n",
       " 'completely,': 1,\n",
       " 'especially': 88,\n",
       " 'wanting': 10,\n",
       " 'together': 56,\n",
       " 'despite': 48,\n",
       " 'difference': 21,\n",
       " 'age': 28,\n",
       " 'now.': 10,\n",
       " 'that,': 49,\n",
       " 'manages': 20,\n",
       " 'end': 136,\n",
       " 'satisfying': 3,\n",
       " 'way': 193,\n",
       " 'possible,': 5,\n",
       " 'considering': 16,\n",
       " 'circumstances': 4,\n",
       " 'plot.': 15,\n",
       " 'disappointed': 21,\n",
       " 'because': 360,\n",
       " 'expect': 47,\n",
       " 'become': 55,\n",
       " 'so': 763,\n",
       " 'immoral': 2,\n",
       " 'end.': 32,\n",
       " 'great': 299,\n",
       " 'potential': 14,\n",
       " 'story,': 51,\n",
       " 'heaven': 6,\n",
       " 'done.': 16,\n",
       " 'theme': 23,\n",
       " 'song': 19,\n",
       " 'sung': 6,\n",
       " 'peter': 22,\n",
       " 'cetera': 1,\n",
       " 'cher,': 1,\n",
       " 'ultimately': 18,\n",
       " 'great.': 23,\n",
       " 'better,': 11,\n",
       " 'similar': 35,\n",
       " 'film,': 160,\n",
       " 'try': 56,\n",
       " '\"heaven': 3,\n",
       " 'can': 395,\n",
       " 'wait.\"': 1,\n",
       " 'decent,': 2,\n",
       " 'kind': 91,\n",
       " \"hadn't\": 15,\n",
       " 'seen': 211,\n",
       " 'second': 78,\n",
       " 'half.<br': 1,\n",
       " '/>***': 5,\n",
       " 'out': 596,\n",
       " '****': 6,\n",
       " 'above': 24,\n",
       " 'summary': 5,\n",
       " \"isn't\": 127,\n",
       " 'meant': 17,\n",
       " 'as': 1763,\n",
       " 'slam': 3,\n",
       " 'against': 43,\n",
       " 'series': 93,\n",
       " 'followed': 13,\n",
       " 'very': 524,\n",
       " 'format.': 3,\n",
       " 'usual,': 4,\n",
       " 'simon': 21,\n",
       " 'templar': 2,\n",
       " '(\"the': 4,\n",
       " 'saint\")': 1,\n",
       " 'lady': 30,\n",
       " 'distress': 1,\n",
       " 'comes': 92,\n",
       " 'aid.': 1,\n",
       " 'also': 354,\n",
       " 'aid': 3,\n",
       " 'police': 27,\n",
       " 'framed': 3,\n",
       " 'accepting': 3,\n",
       " 'bribe.': 1,\n",
       " 'along': 64,\n",
       " 'way,': 30,\n",
       " 'some': 628,\n",
       " 'interesting': 94,\n",
       " 'supporting': 40,\n",
       " 'characters': 210,\n",
       " '(this': 9,\n",
       " 'time,': 54,\n",
       " 'paul': 23,\n",
       " 'guilfoyle': 1,\n",
       " '\"pearly\"': 1,\n",
       " 'gates)': 1,\n",
       " 'during': 78,\n",
       " 'unraveling': 2,\n",
       " 'compelling': 10,\n",
       " 'mystery': 21,\n",
       " '(none': 1,\n",
       " 'are),': 2,\n",
       " 'extremely': 35,\n",
       " 'erudite': 1,\n",
       " 'just': 670,\n",
       " 'plain': 22,\n",
       " 'cool!': 1,\n",
       " 'george': 32,\n",
       " 'sanders': 5,\n",
       " 'consummate': 1,\n",
       " 'sophisticated': 4,\n",
       " 'british': 36,\n",
       " 'do-gooder': 2,\n",
       " 'succeeds': 9,\n",
       " 'making': 96,\n",
       " 'an': 817,\n",
       " 'excellent': 46,\n",
       " 'b-detective': 1,\n",
       " 'film.': 171,\n",
       " 'nothing': 154,\n",
       " 'particularly': 37,\n",
       " 'special,': 2,\n",
       " 'familiar': 13,\n",
       " 'breezy': 2,\n",
       " 'product': 10,\n",
       " 'sure': 91,\n",
       " 'fans': 50,\n",
       " 'genre.': 6,\n",
       " 'walhberg': 2,\n",
       " 'role,': 14,\n",
       " 'idolises': 1,\n",
       " 'rock': 28,\n",
       " 'star': 57,\n",
       " 'extent': 7,\n",
       " 'knowing': 8,\n",
       " 'songs,': 9,\n",
       " 'imitating': 2,\n",
       " 'him': 212,\n",
       " 'perfection,': 1,\n",
       " 'dressing': 3,\n",
       " 'him.': 37,\n",
       " 'when': 576,\n",
       " 'opportunity': 14,\n",
       " 'take': 132,\n",
       " 'over': 203,\n",
       " '\"idol\\'s\"': 1,\n",
       " 'role': 82,\n",
       " 'band,': 4,\n",
       " 'jumps': 5,\n",
       " 'at': 871,\n",
       " 'opportunity.': 2,\n",
       " 'however': 30,\n",
       " 'may': 127,\n",
       " 'what': 596,\n",
       " 'cracked': 2,\n",
       " 'be...': 1,\n",
       " 'relationships': 11,\n",
       " 'change': 32,\n",
       " '....': 1,\n",
       " 'movie': 1277,\n",
       " 'certainly': 37,\n",
       " 'struck': 9,\n",
       " 'having': 109,\n",
       " 'attain': 2,\n",
       " 'overall': 32,\n",
       " 'performances': 41,\n",
       " 'cast': 130,\n",
       " 'two': 269,\n",
       " 'leads,': 5,\n",
       " 'jennifer': 4,\n",
       " 'aniston.': 1,\n",
       " 'make': 312,\n",
       " 'feel': 111,\n",
       " 'sad,': 6,\n",
       " 'emily,': 1,\n",
       " '(jennifer': 3,\n",
       " 'aniston),': 1,\n",
       " 'met': 11,\n",
       " 'chris': 14,\n",
       " 'seattle': 2,\n",
       " 'saw': 159,\n",
       " 'depths': 2,\n",
       " 'had': 428,\n",
       " 'sunk.': 1,\n",
       " 'anybody': 12,\n",
       " 'dreamed': 2,\n",
       " 'or': 660,\n",
       " 'groupie': 2,\n",
       " 'should': 187,\n",
       " 'watch': 220,\n",
       " 'lifestyle,': 2,\n",
       " 'although': 60,\n",
       " 'glamourous': 3,\n",
       " 'while,': 5,\n",
       " 'lonely': 16,\n",
       " 'want.': 2,\n",
       " \"it's\": 607,\n",
       " 'obvious': 24,\n",
       " 'people': 288,\n",
       " 'made': 274,\n",
       " \"'dead\": 1,\n",
       " 'box': 15,\n",
       " \"office'\": 1,\n",
       " 'love': 237,\n",
       " 'b-movie': 6,\n",
       " 'horror.': 5,\n",
       " 'overt': 2,\n",
       " 'references': 10,\n",
       " 'genre': 21,\n",
       " 'peppered': 1,\n",
       " 'throughout,': 9,\n",
       " 'stock': 8,\n",
       " '(the': 55,\n",
       " 'authority': 3,\n",
       " 'figure': 18,\n",
       " \"doesn't\": 168,\n",
       " 'monstrous': 2,\n",
       " 'invasion': 9,\n",
       " 'happening)': 1,\n",
       " 'kevin': 9,\n",
       " 'smith': 15,\n",
       " 'style': 28,\n",
       " 'discussions': 3,\n",
       " 'reenacting': 1,\n",
       " 'duane': 1,\n",
       " \"jones'\": 1,\n",
       " 'moments': 42,\n",
       " \"'night\": 1,\n",
       " 'living': 52,\n",
       " \"dead'\": 1,\n",
       " 'twice.<br': 1,\n",
       " '/>unfortunately': 2,\n",
       " 'takes': 91,\n",
       " 'movie.<br': 38,\n",
       " '/>the': 271,\n",
       " 'staging': 1,\n",
       " 'shot': 55,\n",
       " 'choice': 16,\n",
       " 'unexciting': 2,\n",
       " 'unimaginative.': 2,\n",
       " 'while': 156,\n",
       " 'common': 22,\n",
       " 'admonition': 1,\n",
       " 'school': 48,\n",
       " 'avoid': 23,\n",
       " \"'mastershot\": 1,\n",
       " \"theatre,'\": 1,\n",
       " 'telling': 23,\n",
       " 'completely': 70,\n",
       " 'wide': 10,\n",
       " 'master': 15,\n",
       " 'shot,': 6,\n",
       " 'here': 118,\n",
       " 'we': 340,\n",
       " 'find': 149,\n",
       " 'obverse': 1,\n",
       " 'sequences': 24,\n",
       " 'spatial': 1,\n",
       " 'between': 132,\n",
       " 'told': 31,\n",
       " 'medium': 8,\n",
       " 'shots': 32,\n",
       " 'no': 478,\n",
       " 'establishing': 2,\n",
       " 'tie': 5,\n",
       " 'together.': 14,\n",
       " 'editing': 15,\n",
       " 'drab': 3,\n",
       " 'basic': 11,\n",
       " 'times': 87,\n",
       " 'unmotivated': 1,\n",
       " 'cuts.': 1,\n",
       " 'lighting': 5,\n",
       " 'flat': 13,\n",
       " 'sometimes': 47,\n",
       " 'muddy,': 2,\n",
       " 'darkened': 2,\n",
       " 'theatre': 6,\n",
       " '(was': 1,\n",
       " 'lighting,': 4,\n",
       " 'light': 20,\n",
       " 'only?).': 1,\n",
       " 'focus.': 1,\n",
       " 'dialogue': 42,\n",
       " 'trite,': 2,\n",
       " 'performances,': 11,\n",
       " 'part,': 14,\n",
       " 'one-note': 4,\n",
       " '(isaiah': 1,\n",
       " 'robinson': 3,\n",
       " 'energy': 8,\n",
       " 'screen': 55,\n",
       " 'presence': 13,\n",
       " 'curtis,': 2,\n",
       " 'fellow': 17,\n",
       " 'playing': 63,\n",
       " 'projectionist': 1,\n",
       " 'pleasantly': 5,\n",
       " 'dickish': 1,\n",
       " 'line': 65,\n",
       " 'readings;': 1,\n",
       " 'michael': 44,\n",
       " 'allen': 8,\n",
       " 'williams': 9,\n",
       " 'theater': 22,\n",
       " 'manager': 8,\n",
       " 'casey': 4,\n",
       " 'kirkpatrick': 1,\n",
       " 'enthusiastic': 3,\n",
       " 'geek': 2,\n",
       " 'eric': 5,\n",
       " 'nice': 60,\n",
       " 'moments).': 1,\n",
       " 'premise': 33,\n",
       " 'silly,': 3,\n",
       " 'even': 479,\n",
       " 'b': 26,\n",
       " 'horror': 119,\n",
       " 'flick': 27,\n",
       " '(also,': 1,\n",
       " 'bad': 265,\n",
       " 'dr': 2,\n",
       " 'eisner': 1,\n",
       " 'unaware': 4,\n",
       " 'project': 15,\n",
       " 'paperclip': 1,\n",
       " '-': 360,\n",
       " \"could've\": 9,\n",
       " 'saved': 10,\n",
       " 'himself': 66,\n",
       " 'lot': 185,\n",
       " 'trouble!).': 1,\n",
       " \"'zombies'\": 1,\n",
       " 'non-threatening,': 1,\n",
       " 'makeup': 3,\n",
       " 'unconvincing': 5,\n",
       " '(although': 11,\n",
       " 'chunky': 1,\n",
       " 'zombie': 18,\n",
       " 'trying': 103,\n",
       " 'gumball': 1,\n",
       " 'machine': 8,\n",
       " 'raised': 5,\n",
       " 'smile).': 1,\n",
       " 'fan': 36,\n",
       " 'little': 213,\n",
       " 'blood': 33,\n",
       " 'violence,': 4,\n",
       " 'is,': 59,\n",
       " 'handled': 7,\n",
       " 'well.': 42,\n",
       " 'incidental': 2,\n",
       " 'music,': 12,\n",
       " 'stylistically': 1,\n",
       " 'uneven,': 2,\n",
       " 'times,': 20,\n",
       " 'foley': 1,\n",
       " 'effects.': 9,\n",
       " \"'time\": 2,\n",
       " \"warp'\": 1,\n",
       " 'parody': 11,\n",
       " 'fun': 84,\n",
       " 'listen,': 1,\n",
       " 'images': 8,\n",
       " 'going': 145,\n",
       " 'were': 459,\n",
       " 'less': 64,\n",
       " 'watch.': 22,\n",
       " 'unfortunately,': 20,\n",
       " 'looped': 1,\n",
       " 'sounds': 19,\n",
       " 'flat.': 1,\n",
       " 'non-sync': 1,\n",
       " '(doubtful,': 1,\n",
       " 'looks': 87,\n",
       " 'through': 167,\n",
       " 'through)?': 1,\n",
       " 'watched': 92,\n",
       " 'special': 65,\n",
       " 'introduction': 2,\n",
       " 'troma': 1,\n",
       " \"films'\": 2,\n",
       " 'lloyd': 5,\n",
       " 'kaufman': 3,\n",
       " 'before': 138,\n",
       " 'main': 115,\n",
       " 'feature': 17,\n",
       " 'consisted': 4,\n",
       " 'essentially': 9,\n",
       " 'plugging': 2,\n",
       " 'own': 119,\n",
       " 'stuff': 33,\n",
       " 'admitting': 1,\n",
       " 'someone': 67,\n",
       " 'mugged': 1,\n",
       " 'toxie': 1,\n",
       " 'mask,': 2,\n",
       " 'production': 47,\n",
       " 'entertainment': 23,\n",
       " 'values': 10,\n",
       " 'higher': 7,\n",
       " \"'dead...'\": 2,\n",
       " 'itself': 39,\n",
       " '(quick': 1,\n",
       " 'aside': 15,\n",
       " 'whoever': 12,\n",
       " 'put': 73,\n",
       " 'dvd': 79,\n",
       " 'countdown': 1,\n",
       " 'leader': 7,\n",
       " 'beeps': 1,\n",
       " 'only': 483,\n",
       " 'flash-frame': 1,\n",
       " '2,': 5,\n",
       " 'every': 128,\n",
       " 'number': 36,\n",
       " 'plus': 19,\n",
       " 'after).': 1,\n",
       " 'matter,': 5,\n",
       " 'vampire': 18,\n",
       " 'theatregoers': 1,\n",
       " 'watching': 171,\n",
       " 'early': 58,\n",
       " 'looked': 36,\n",
       " 'entertaining': 41,\n",
       " 'this.': 46,\n",
       " 'recommendation': 4,\n",
       " 'avoid,': 1,\n",
       " 'unless': 19,\n",
       " 'know': 211,\n",
       " 'involved': 39,\n",
       " 'ardent': 2,\n",
       " 'completist': 1,\n",
       " '(he': 8,\n",
       " 'plays': 85,\n",
       " \"'kaufman\": 1,\n",
       " \"minion'\": 1,\n",
       " 'film-within-a-film).<br': 1,\n",
       " '/>(full': 1,\n",
       " 'disclosure:': 1,\n",
       " 'girlfriend': 16,\n",
       " 'extra': 14,\n",
       " 'movie.': 243,\n",
       " 'swear': 6,\n",
       " 'color': 18,\n",
       " 'review.)': 1,\n",
       " 'any': 293,\n",
       " 'chance': 46,\n",
       " 'katharine': 4,\n",
       " 'hepburn': 5,\n",
       " 'something': 169,\n",
       " \"haven't\": 43,\n",
       " 'career': 18,\n",
       " 'treat,': 1,\n",
       " 'level': 29,\n",
       " 'amusing,': 1,\n",
       " \"she's\": 66,\n",
       " 'horrible': 41,\n",
       " 'miscast': 6,\n",
       " 'hill': 11,\n",
       " 'billy.': 1,\n",
       " 'famous': 27,\n",
       " 'england': 5,\n",
       " 'enunciation': 1,\n",
       " 'slips': 1,\n",
       " 'through,': 4,\n",
       " 'lines': 33,\n",
       " 'like,': 15,\n",
       " '\"i\\'d': 1,\n",
       " 'better': 174,\n",
       " 'rustle': 1,\n",
       " 'vittles\"': 1,\n",
       " 'ludicrous.': 2,\n",
       " 'young\\x85': 1,\n",
       " 'almost': 125,\n",
       " 'overcomes': 2,\n",
       " 'major': 28,\n",
       " 'flaw.': 1,\n",
       " 'fashioned': 2,\n",
       " 'melodrama,': 6,\n",
       " 'fore,': 1,\n",
       " 'younger': 17,\n",
       " 'generation': 11,\n",
       " 'corny': 8,\n",
       " 'stuff,': 8,\n",
       " 'staple': 3,\n",
       " 'american': 69,\n",
       " 'into': 345,\n",
       " \"1940's.\": 3,\n",
       " 'moments,': 6,\n",
       " 'might': 98,\n",
       " 'need': 72,\n",
       " 'die-hard': 1,\n",
       " 'buff': 1,\n",
       " 'appreciate': 21,\n",
       " 'beginning': 45,\n",
       " 'happy': 38,\n",
       " 'superman': 3,\n",
       " ',': 15,\n",
       " 'though': 103,\n",
       " \"wasn't.<br\": 1,\n",
       " '/>is': 5,\n",
       " 'copy': 27,\n",
       " 'richard': 28,\n",
       " 'donner': 2,\n",
       " 'work,lex': 1,\n",
       " 'villain': 12,\n",
       " 'makes': 176,\n",
       " 'else': 55,\n",
       " 'played': 91,\n",
       " 'spice.<br': 1,\n",
       " 'evil': 31,\n",
       " 'plan': 15,\n",
       " 'same': 151,\n",
       " 'forced.<br': 2,\n",
       " 'script': 76,\n",
       " 'predictable': 16,\n",
       " 'simple': 34,\n",
       " '(all': 4,\n",
       " 'luthor': 1,\n",
       " 'finds': 52,\n",
       " 'museum': 7,\n",
       " 'lady).<br': 1,\n",
       " 'wrong': 47,\n",
       " 'thing': 148,\n",
       " 'must': 116,\n",
       " 'better.<br': 3,\n",
       " '/>i': 157,\n",
       " 'hope': 57,\n",
       " 'sequel': 23,\n",
       " 'without': 129,\n",
       " 'brian': 8,\n",
       " 'singer': 8,\n",
       " 'talent': 27,\n",
       " 'director': 125,\n",
       " 'copy.<br': 1,\n",
       " '/>all': 17,\n",
       " 'read': 67,\n",
       " 'later': 61,\n",
       " 'fearnet,': 1,\n",
       " 'thought': 141,\n",
       " 'scary': 26,\n",
       " 'apparently,': 6,\n",
       " \"wasn't.\": 2,\n",
       " 'clue': 8,\n",
       " 'allowed': 12,\n",
       " 'featured': 4,\n",
       " 'site.': 2,\n",
       " 'fearnet': 1,\n",
       " 'site': 4,\n",
       " 'movies.<br': 7,\n",
       " 'acting': 193,\n",
       " 'wonderful': 59,\n",
       " 'actors.': 7,\n",
       " 'hated': 14,\n",
       " 'story.': 52,\n",
       " 'stupid.': 11,\n",
       " 'starts': 45,\n",
       " 'man': 154,\n",
       " 'scroll': 2,\n",
       " 'signia': 1,\n",
       " 'stamped': 1,\n",
       " 'onto': 13,\n",
       " 'breaks': 9,\n",
       " 'seal': 1,\n",
       " 'certain': 28,\n",
       " 'disasters': 2,\n",
       " 'happen.': 4,\n",
       " 'water': 12,\n",
       " 'turns': 49,\n",
       " 'blood,': 6,\n",
       " 'oceans': 1,\n",
       " 'die': 18,\n",
       " 'out,': 31,\n",
       " 'moon': 9,\n",
       " 'red,': 2,\n",
       " 'etc.': 20,\n",
       " '<br': 225,\n",
       " 'female': 33,\n",
       " 'character': 174,\n",
       " 'annoying': 25,\n",
       " \"didn't\": 145,\n",
       " 'sense.': 10,\n",
       " 'sees': 21,\n",
       " 'piece': 56,\n",
       " 'paper': 10,\n",
       " 'date': 13,\n",
       " 'coincidentally,': 1,\n",
       " 'expected': 21,\n",
       " 'give': 147,\n",
       " 'birth': 11,\n",
       " 'baby': 16,\n",
       " 'freaking': 4,\n",
       " 'researching': 3,\n",
       " 'asking': 4,\n",
       " 'religious': 19,\n",
       " 'means.<br': 1,\n",
       " '/>*spoiler': 1,\n",
       " 'alert*': 1,\n",
       " 'worst': 110,\n",
       " 'things': 115,\n",
       " 'happened': 37,\n",
       " 'execution': 8,\n",
       " 'mentally': 14,\n",
       " 'retarded': 5,\n",
       " 'claimed': 3,\n",
       " 'god': 20,\n",
       " 'parents': 20,\n",
       " 'where': 198,\n",
       " 'demi': 5,\n",
       " 'moore': 8,\n",
       " 'dies': 8,\n",
       " 'giving': 30,\n",
       " 'transferring': 2,\n",
       " 'soul': 13,\n",
       " 'it.<br': 46,\n",
       " \"/>here's\": 2,\n",
       " 'happens.': 4,\n",
       " 'person': 48,\n",
       " 'gets': 132,\n",
       " 'killed': 44,\n",
       " 'apocalypse': 12,\n",
       " 'begins.': 2,\n",
       " 'hospital': 8,\n",
       " 'middle': 16,\n",
       " 'massive': 5,\n",
       " 'earthquake': 1,\n",
       " 'gives': 48,\n",
       " 'child.': 6,\n",
       " 'touches': 3,\n",
       " \"child's\": 6,\n",
       " 'head,': 6,\n",
       " 'child': 37,\n",
       " 'then': 294,\n",
       " 'dies.': 1,\n",
       " 'then,': 22,\n",
       " 'stops.<br': 1,\n",
       " '/>why': 1,\n",
       " 'does': 211,\n",
       " 'sudden': 6,\n",
       " 'heart?': 1,\n",
       " 'furious': 2,\n",
       " 'governor': 1,\n",
       " 'allows': 9,\n",
       " \"he's\": 124,\n",
       " 'forgiveness': 4,\n",
       " 'lone': 4,\n",
       " 'woman': 80,\n",
       " 'transfers': 1,\n",
       " 'baby?': 1,\n",
       " '/>*end': 1,\n",
       " 'spoiler*': 1,\n",
       " 'another': 147,\n",
       " 'world': 88,\n",
       " 'propaganda': 4,\n",
       " 'piece.': 4,\n",
       " 'biehn': 1,\n",
       " 'everybody': 16,\n",
       " 'excellent.': 13,\n",
       " \"that's\": 124,\n",
       " 'is.<br': 8,\n",
       " '2': 52,\n",
       " 'stars': 28,\n",
       " '10.': 20,\n",
       " 'nonsense!': 1,\n",
       " 'four': 34,\n",
       " 'eyed': 4,\n",
       " 'monsters': 10,\n",
       " 'follows': 22,\n",
       " 'relationship': 34,\n",
       " 'shy,': 3,\n",
       " 'reclusive': 1,\n",
       " 'videographer': 1,\n",
       " 'equally': 21,\n",
       " 'estranged': 5,\n",
       " 'struggling': 9,\n",
       " 'artist,': 1,\n",
       " 'who,': 5,\n",
       " 'both': 118,\n",
       " 'big': 111,\n",
       " 'apple,': 1,\n",
       " 'develop': 9,\n",
       " 'unlikely': 9,\n",
       " 'romance': 18,\n",
       " 'help': 75,\n",
       " 'internet': 5,\n",
       " 'dating': 5,\n",
       " 'unusual,': 1,\n",
       " 'method': 3,\n",
       " 'communication.': 1,\n",
       " 'foregoing': 1,\n",
       " 'verbal,': 1,\n",
       " 'notes': 4,\n",
       " 'communicating': 2,\n",
       " 'video.<br': 1,\n",
       " 'based': 54,\n",
       " 'upon': 31,\n",
       " \"creator's\": 1,\n",
       " '(arin': 1,\n",
       " 'crumley': 1,\n",
       " '&': 146,\n",
       " 'susan': 4,\n",
       " 'buice)': 1,\n",
       " 'relationship,': 3,\n",
       " 'besides': 16,\n",
       " 'directing,': 7,\n",
       " 'lead': 32,\n",
       " 'elements': 24,\n",
       " 'avant-garde,': 1,\n",
       " 'anti-plot,': 1,\n",
       " 'docudrama,': 1,\n",
       " 'scatters': 1,\n",
       " 'wind': 9,\n",
       " 'undecided': 1,\n",
       " 'structure': 4,\n",
       " 'nestled': 1,\n",
       " 'neatly': 1,\n",
       " 'narcissism': 1,\n",
       " 'self-indulgence.<br': 1,\n",
       " ...}"
      ]
     },
     "execution_count": 17,
     "metadata": {},
     "output_type": "execute_result"
    }
   ],
   "source": [
    "words"
   ]
  },
  {
   "cell_type": "markdown",
   "metadata": {},
   "source": [
    "#### Remove the stopwords from our frequencies."
   ]
  },
  {
   "cell_type": "code",
   "execution_count": 18,
   "metadata": {},
   "outputs": [
    {
     "name": "stderr",
     "output_type": "stream",
     "text": [
      "[nltk_data] Downloading package stopwords to\n",
      "[nltk_data]     /Users/msarica/nltk_data...\n",
      "[nltk_data]   Package stopwords is already up-to-date!\n"
     ]
    }
   ],
   "source": [
    "import nltk\n",
    "nltk.download('stopwords')\n",
    "\n",
    "from nltk.corpus import stopwords\n",
    "stop = stopwords.words('english')"
   ]
  },
  {
   "cell_type": "code",
   "execution_count": 19,
   "metadata": {},
   "outputs": [
    {
     "data": {
      "text/plain": [
       "['i', 'me', 'my', 'myself', 'we']"
      ]
     },
     "execution_count": 19,
     "metadata": {},
     "output_type": "execute_result"
    }
   ],
   "source": [
    "stop[:5]"
   ]
  },
  {
   "cell_type": "code",
   "execution_count": 20,
   "metadata": {},
   "outputs": [
    {
     "name": "stdout",
     "output_type": "stream",
     "text": [
      "Length of new dictionary: 32,378\n"
     ]
    }
   ],
   "source": [
    "for sw in list(stop):\n",
    "    words.pop(sw, None)\n",
    "    \n",
    "print(f'Length of new dictionary: {len(words.keys()):,}')"
   ]
  },
  {
   "cell_type": "markdown",
   "metadata": {},
   "source": [
    "> Could also use this to in conjunction with mini-batches for training or scoring large datasets with limited computing resources and to inform some of the feature engineering."
   ]
  },
  {
   "cell_type": "markdown",
   "metadata": {},
   "source": [
    "\n",
    "## What if your data is so large that your models take hours to train?\n",
    "- All of the models we've talked about so far use `batch` learning, which means the entire dataset is needed to update the parameters at each iteration.  \n",
    "- Really large datasets make this unfeasible.  \n",
    "- An alternative is `stochastic gradient descent (SGD)` or `mini-batch gradient descent`.  \n",
    "- `SGD` is also referred to as iterative or `online learning` since it learns after 1 observation.  \n",
    "- `mini-batch` learns after a batch of observations, something more than 1 and less than the number of observations in the dataset.\n",
    "\n",
    "#### Difference from `Gradient Descent`\n",
    "- Instead of updating the weights after each iteration, we update the weights based on the `cumulative sum of errors` over all the examples.  \n",
    "\n",
    "$$\n",
    "\\vartriangle w = \\eta \\sum_{i}(y^{(i)}-\\phi (z^{(i)}))x^{(i)}\n",
    "$$\n",
    "\n",
    "- $\\eta$ is the learning rate.  \n",
    "- `epochs` total number of times we are going to pass through the entire dataset (`outer for loop`), i.e., iterations.    \n",
    "- `batches` number of observations we'll use to update the errors each time (`inner for loop`). For `SGD` this will be 1.    \n",
    "- This is an approximation of gradient descent.  \n",
    "- Generally will converge faster because we are updating the weights more often.  \n",
    "- Since this is updated after after sample error, the error surface will be noisey.  \n",
    "- While the surface is noisey, it can break out of local minima easier.  \n",
    "- The trade-off to the ability to break out of local minimas is that it will can have trouble settling due to the variation that will now be in the loss curves.    \n",
    "- The learning rate, $\\eta$, is usually replaced by an adaptive learning rate, which usually helps reach the closer to the convergence point gradient descent would reach, i.e., the learning rate will generally decrease as epochs and iterations continue in order to better fine tune. This also helps with making sure it settles down. Usually this is implemented something like this:\n",
    "\n",
    "$$\n",
    "\\frac{t_0}{epochs+t_1}\n",
    "$$\n",
    "\n",
    "\n",
    "- We'll want to reshuffle the data so the training examples are independently, identically distributed after each epoch (full training cycle) to prevent recurring cycles that could influence learning.  \n",
    "- Another big benefit to `SGD` is that it allows us to stream observations into the model for training purposes, i.e., we'd never actually need to have all of the training data in memory for the purposes of modeling. If you data is say for example 10Gb and you only have 4Gb of memory on your machine, you wouldn't be able to load the entire dataset.\n",
    "\n",
    "### Simple example of `SGD`\n",
    "`Hands-on Machine Learning with Scikit-Learn, Keras & TensorFlow, page 125.`"
   ]
  },
  {
   "cell_type": "code",
   "execution_count": 21,
   "metadata": {},
   "outputs": [
    {
     "name": "stdout",
     "output_type": "stream",
     "text": [
      "Requirement already satisfied: pyprind in /opt/anaconda3/lib/python3.12/site-packages (2.11.3)\n"
     ]
    }
   ],
   "source": [
    "!pip install pyprind"
   ]
  },
  {
   "cell_type": "markdown",
   "metadata": {},
   "source": [
    "#### Create sample data that we'll eventually want to run a regression on."
   ]
  },
  {
   "cell_type": "code",
   "execution_count": 22,
   "metadata": {},
   "outputs": [
    {
     "data": {
      "image/png": "[encoded data removed]",
      "text/plain": [
       "<Figure size 640x480 with 1 Axes>"
      ]
     },
     "metadata": {},
     "output_type": "display_data"
    }
   ],
   "source": [
    "import numpy as np\n",
    "import matplotlib.pyplot as plt\n",
    "%matplotlib inline\n",
    "\n",
    "X = 2 * np.random.rand(1000,1)\n",
    "y = 4 + 3 * X + np.random.randn(1000,1)\n",
    "\n",
    "plt.scatter(X, y)\n",
    "plt.show()"
   ]
  },
  {
   "cell_type": "markdown",
   "metadata": {},
   "source": [
    "#### Adding the constant term to $X$\n",
    "Remember you might need to do this depending on the software you are using!"
   ]
  },
  {
   "cell_type": "code",
   "execution_count": 23,
   "metadata": {},
   "outputs": [
    {
     "data": {
      "text/plain": [
       "array([1.        , 0.66788754])"
      ]
     },
     "execution_count": 23,
     "metadata": {},
     "output_type": "execute_result"
    }
   ],
   "source": [
    "X_b = np.c_[np.ones((1000,1)), X]\n",
    "X_b[0, :]"
   ]
  },
  {
   "cell_type": "markdown",
   "metadata": {},
   "source": [
    "### Simple implementation of stochastic gradient descent for regression\n",
    "- Go through the dataset 25,000 times. \n",
    "- Update parameters after each observation."
   ]
  },
  {
   "cell_type": "code",
   "execution_count": 24,
   "metadata": {},
   "outputs": [
    {
     "name": "stdout",
     "output_type": "stream",
     "text": [
      "Intercept: 4.86\n",
      "Slope: 2.66\n"
     ]
    }
   ],
   "source": [
    "import numpy as np\n",
    "\n",
    "n_epochs = 25000\n",
    "m = 1\n",
    "t0, t1 = 5, 50\n",
    "\n",
    "def learning_schedule(t):\n",
    "    return t0 / (t + t1)\n",
    "\n",
    "# initialization to random numbers\n",
    "# recall this will cause the results to differ each time unless we freeze the seed\n",
    "theta = np.random.randn(2,1)\n",
    "\n",
    "for epoch in range(n_epochs):\n",
    "    for i in range(m):\n",
    "        random_index = np.random.randint(m)\n",
    "        \n",
    "        # shuffling the dataset\n",
    "        xi = X_b[random_index:random_index+1]\n",
    "        yi = y[random_index:random_index+1]\n",
    "        \n",
    "        gradients = 2 * xi.T.dot(xi.dot(theta) - yi)\n",
    "        eta = learning_schedule(epoch * m + i)\n",
    "        theta -= eta * gradients\n",
    "        \n",
    "sgd_intercept, sgd_slope = theta\n",
    "\n",
    "print(f'Intercept: {float(sgd_intercept[0]):.2f}')\n",
    "print(f'Slope: {float(sgd_slope[0]):.2f}')"
   ]
  },
  {
   "cell_type": "markdown",
   "metadata": {},
   "source": [
    "### Mini-batch\n",
    "- Go through the dataset 500 times. \n",
    "- Update parameters after 50 observations.  "
   ]
  },
  {
   "cell_type": "code",
   "execution_count": 25,
   "metadata": {},
   "outputs": [
    {
     "name": "stdout",
     "output_type": "stream",
     "text": [
      "Intercept: 3.87\n",
      "Slope: 3.02\n"
     ]
    }
   ],
   "source": [
    "import numpy as np\n",
    "\n",
    "n_epochs = 500\n",
    "m = 100\n",
    "t0, t1 = 5, 50\n",
    "\n",
    "def learning_schedule(t):\n",
    "    return t0 / (t + t1)\n",
    "\n",
    "# initialization to random numbers\n",
    "# recall this will cause the results to differ each time unless we freeze the seed\n",
    "theta = np.random.randn(2,1)\n",
    "\n",
    "for epoch in range(n_epochs):\n",
    "    for i in range(m):\n",
    "        random_index = np.random.randint(m)\n",
    "        \n",
    "        xi = X_b[random_index:random_index+1]\n",
    "        yi = y[random_index:random_index+1]\n",
    "        \n",
    "        gradients = 2 * xi.T.dot(xi.dot(theta) - yi)\n",
    "        eta = learning_schedule(epoch * m + i)\n",
    "        theta -= eta * gradients\n",
    "        \n",
    "sgd_minibatch_intercept, sgd_minibatch_slope = theta\n",
    "print(f'Intercept: {float(sgd_minibatch_intercept[0]):.2f}')\n",
    "print(f'Slope: {float(sgd_minibatch_slope[0]):.2f}')"
   ]
  },
  {
   "cell_type": "markdown",
   "metadata": {},
   "source": [
    "### Comparison to batch model\n",
    "- All observations at once"
   ]
  },
  {
   "cell_type": "code",
   "execution_count": 26,
   "metadata": {},
   "outputs": [
    {
     "name": "stdout",
     "output_type": "stream",
     "text": [
      "Intercept: 4.02\n",
      "Slope: 2.92\n"
     ]
    }
   ],
   "source": [
    "from sklearn.linear_model import LinearRegression\n",
    "\n",
    "lm = LinearRegression(fit_intercept=False).fit(X_b,y)\n",
    "lm_intercept = lm.coef_[0][0]\n",
    "lm_slope = lm.coef_[0][1]\n",
    "\n",
    "print(f'Intercept: {lm_intercept:.2f}')\n",
    "print(f'Slope: {lm_slope:.2f}')"
   ]
  },
  {
   "cell_type": "markdown",
   "metadata": {},
   "source": [
    "> Not exact, but pretty close. The trade-off in performance relative to computation will be worthwhile for very large datasets. Mini-batch will be closer to batch results generally speaking.  "
   ]
  },
  {
   "cell_type": "code",
   "execution_count": 27,
   "metadata": {},
   "outputs": [
    {
     "data": {
      "image/png": "[encoded data removed]",
      "text/plain": [
       "<Figure size 640x480 with 1 Axes>"
      ]
     },
     "metadata": {},
     "output_type": "display_data"
    }
   ],
   "source": [
    "import matplotlib.pyplot as plt \n",
    "import numpy as np    \n",
    "\n",
    "def abline(intercept, slope, color, label):\n",
    "    \"\"\"Plot a line from slope and intercept\"\"\"\n",
    "    axes = plt.gca()\n",
    "    x_vals = np.array(axes.get_xlim())\n",
    "    y_vals = intercept + slope * x_vals\n",
    "    plt.plot(x_vals, y_vals, color, label=label)\n",
    "    \n",
    "    \n",
    "plt.scatter(X, y)\n",
    "abline(sgd_intercept, sgd_slope, 'r-', 'sgd')\n",
    "abline(sgd_minibatch_intercept, sgd_minibatch_slope, 'b-', 'mini_batch')\n",
    "abline(lm_intercept, lm_slope, 'g-', 'lr')\n",
    "plt.legend()\n",
    "plt.show()\n"
   ]
  },
  {
   "cell_type": "markdown",
   "metadata": {},
   "source": [
    "## Stochastic Gradient Descent (SGD) in scikit-learn\n",
    "- [Linear Regression $\\rightarrow$ LinearRegression:SGDRegressor](https://scikit-learn.org/stable/modules/generated/sklearn.linear_model.SGDRegressor.html#sklearn.linear_model.SGDRegressor)  \n",
    "- [Various Classifiers $\\rightarrow$ SGDClassifier](https://scikit-learn.org/stable/modules/generated/sklearn.linear_model.SGDClassifier.html#sklearn.linear_model.SGDClassifier)  \n",
    "\n",
    "#### SGDClassifier\n",
    "The `loss` parameter controls the type of classifier you can use. The following is from the documentation:\n",
    "\n",
    ">The possible options are `hinge`, `log`, `modified_huber`, `squared_hinge`, `perceptron`, or a regression loss: `squared_error`, `huber`, `epsilon_insensitive`, or `squared_epsilon_insensitive`.\n",
    "<br><br>The `log` loss gives logistic regression, a probabilistic classifier. `modified_huber` is another smooth loss that brings tolerance to outliers as well as probability estimates. `squared_hinge` is like hinge but is quadratically penalized. `perceptron` is the linear loss used by the perceptron algorithm. The other losses are designed for regression but can be useful in classification as well; see SGDRegressor for a description.  \n",
    "\n",
    "Use `.partial_fit` to utilize online/out-of-core learning:"
   ]
  },
  {
   "cell_type": "code",
   "execution_count": 28,
   "metadata": {},
   "outputs": [
    {
     "data": {
      "image/png": "[encoded data removed]",
      "text/plain": [
       "<Figure size 640x480 with 1 Axes>"
      ]
     },
     "metadata": {},
     "output_type": "display_data"
    },
    {
     "data": {
      "image/png": "[encoded data removed]",
      "text/plain": [
       "<Figure size 640x480 with 1 Axes>"
      ]
     },
     "metadata": {},
     "output_type": "display_data"
    }
   ],
   "source": [
    "from sklearn.linear_model import SGDRegressor\n",
    "\n",
    "sgd_lm = SGDRegressor(fit_intercept=False,\n",
    "                      alpha=0, \n",
    "                      eta0=0.01, \n",
    "                      power_t=.05, \n",
    "                      learning_rate='adaptive'\n",
    "                     )\n",
    "\n",
    "samples = X_b.shape[0]\n",
    "random_idx = np.random.choice(range(1000), size=1000, replace=False)\n",
    "\n",
    "X_b = X_b[random_idx]\n",
    "y = y[random_idx]\n",
    "\n",
    "coefs = list()\n",
    "mses = list()\n",
    "\n",
    "for i in range(samples):\n",
    "    sgd_lm = sgd_lm.partial_fit(X_b[i:i+1], y[i:i+1].ravel())\n",
    "\n",
    "    b = sgd_lm.coef_[0]\n",
    "    m = sgd_lm.coef_[1]\n",
    "    coefs.append((b, m))\n",
    "    \n",
    "    yhat = sgd_lm.predict(X_b)\n",
    "    mse = ((y - yhat)**2).mean()\n",
    "    mses.append(mse)\n",
    "\n",
    "plt.plot(range(samples), [x[0] for x in coefs])\n",
    "plt.plot(range(samples), [x[1] for x in coefs])\n",
    "plt.legend(['Intercept', 'Slope'])\n",
    "plt.xlabel('Example')\n",
    "plt.ylabel('Weight')\n",
    "plt.show()\n",
    "\n",
    "plt.plot(range(samples), mses)\n",
    "plt.xlabel('Example')\n",
    "plt.ylabel('Mean Squared Error')\n",
    "plt.show()"
   ]
  },
  {
   "cell_type": "markdown",
   "metadata": {},
   "source": [
    "> Parameter curve won't be as smooth as with batch updates.  \n",
    "> See the noise in the loss curve that we haven't seen in batch gradient descent?"
   ]
  },
  {
   "cell_type": "markdown",
   "metadata": {},
   "source": [
    "# Sentiment Analysis with Larger Data\n",
    "- Sentiment analysis is a type of `natural language processing`.  \n",
    "- We'll be trying to predict whether the text is positive or negative about the movie. The movie being reviewed is unknown.  \n",
    "- We'll need to:\n",
    "    - Clean the data.  \n",
    "    - Extract features.  \n",
    "    - Train a `batch` model.  \n",
    "    - Compare to an `online` model.  \n",
    "    - Look at extracting topic vectors.  \n",
    "    \n",
    "Data source is from [Andrew L. Maas, Raymond E. Daly, Peter T. Pham, Dan Huang, Andrew Y. Ng, and Christopher Potts. (2011). Learning Word Vectors for Sentiment Analysis. The 49th Annual Meeting of the Association for Computational Linguistics (ACL 2011).](https://ai.stanford.edu/~amaas/data/sentiment/)"
   ]
  },
  {
   "cell_type": "code",
   "execution_count": 29,
   "metadata": {},
   "outputs": [
    {
     "data": {
      "text/html": [
       "<div>\n",
       "<style scoped>\n",
       "    .dataframe tbody tr th:only-of-type {\n",
       "        vertical-align: middle;\n",
       "    }\n",
       "\n",
       "    .dataframe tbody tr th {\n",
       "        vertical-align: top;\n",
       "    }\n",
       "\n",
       "    .dataframe thead th {\n",
       "        text-align: right;\n",
       "    }\n",
       "</style>\n",
       "<table border=\"1\" class=\"dataframe\">\n",
       "  <thead>\n",
       "    <tr style=\"text-align: right;\">\n",
       "      <th></th>\n",
       "      <th>review</th>\n",
       "      <th>sentiment</th>\n",
       "    </tr>\n",
       "  </thead>\n",
       "  <tbody>\n",
       "    <tr>\n",
       "      <th>0</th>\n",
       "      <td>In 1974, the teenager Martha Moxley (Maggie Gr...</td>\n",
       "      <td>1</td>\n",
       "    </tr>\n",
       "    <tr>\n",
       "      <th>1</th>\n",
       "      <td>OK... so... I really like Kris Kristofferson a...</td>\n",
       "      <td>0</td>\n",
       "    </tr>\n",
       "    <tr>\n",
       "      <th>2</th>\n",
       "      <td>***SPOILER*** Do not read this, if you think a...</td>\n",
       "      <td>0</td>\n",
       "    </tr>\n",
       "    <tr>\n",
       "      <th>3</th>\n",
       "      <td>hi for all the people who have seen this wonde...</td>\n",
       "      <td>1</td>\n",
       "    </tr>\n",
       "    <tr>\n",
       "      <th>4</th>\n",
       "      <td>I recently bought the DVD, forgetting just how...</td>\n",
       "      <td>0</td>\n",
       "    </tr>\n",
       "  </tbody>\n",
       "</table>\n",
       "</div>"
      ],
      "text/plain": [
       "                                              review  sentiment\n",
       "0  In 1974, the teenager Martha Moxley (Maggie Gr...          1\n",
       "1  OK... so... I really like Kris Kristofferson a...          0\n",
       "2  ***SPOILER*** Do not read this, if you think a...          0\n",
       "3  hi for all the people who have seen this wonde...          1\n",
       "4  I recently bought the DVD, forgetting just how...          0"
      ]
     },
     "execution_count": 29,
     "metadata": {},
     "output_type": "execute_result"
    }
   ],
   "source": [
    "import pandas as pd\n",
    "\n",
    "file_name = 'imdb.csv'\n",
    "\n",
    "df = pd.read_csv(file_name, encoding='utf-8')\n",
    "df.head()"
   ]
  },
  {
   "cell_type": "code",
   "execution_count": 30,
   "metadata": {},
   "outputs": [
    {
     "name": "stdout",
     "output_type": "stream",
     "text": [
      "<class 'pandas.core.frame.DataFrame'>\n",
      "RangeIndex: 50000 entries, 0 to 49999\n",
      "Data columns (total 2 columns):\n",
      " #   Column     Non-Null Count  Dtype \n",
      "---  ------     --------------  ----- \n",
      " 0   review     50000 non-null  object\n",
      " 1   sentiment  50000 non-null  int64 \n",
      "dtypes: int64(1), object(1)\n",
      "memory usage: 781.4+ KB\n"
     ]
    }
   ],
   "source": [
    "df.info()"
   ]
  },
  {
   "cell_type": "markdown",
   "metadata": {},
   "source": [
    "## Bag-of-Words\n",
    "We'll use a `bag-of-words` model for the prediction. Recall we've introduced this in earlier examples, such as the `spam` detection examples.\n",
    "\n",
    "`Bag-of-words` will let us represent the text reviews as simple numerical vectors.  \n",
    "\n",
    "- Create a `vocabulary` of unique tokens (i.e., words).  \n",
    "- Construct feature vector, with the counts of how often the word appears. These will mostly be sparse vectors, since each review will only use a small percentage of the unique words across the entire dataset."
   ]
  },
  {
   "cell_type": "code",
   "execution_count": 31,
   "metadata": {},
   "outputs": [
    {
     "name": "stdout",
     "output_type": "stream",
     "text": [
      "{'hello': 5, 'there': 20, 'bill': 2, 'the': 19, 'ravens': 14, 'defense': 4, 'is': 7, 'terrible': 18, 'traffic': 23, 'on': 13, '695': 0, 'silly': 16, 'sun': 17, 'was': 25, 'shining': 15, 'today': 22, 'my': 10, 'daughter': 3, 'keeps': 8, 'me': 9, 'up': 24, 'to': 21, 'all': 1, 'hours': 6, 'of': 12, 'night': 11}\n"
     ]
    }
   ],
   "source": [
    "import numpy as np\n",
    "from sklearn.feature_extraction.text import CountVectorizer\n",
    "\n",
    "count = CountVectorizer()\n",
    "\n",
    "docs = np.array(['hello there bill the ', \n",
    "                  'the ravens defense is terrible',\n",
    "                  'the traffic on 695 is silly',\n",
    "                  'the sun was shining today',\n",
    "                  'my daughter keeps me up to all hours of the night'\n",
    "                 ])\n",
    "\n",
    "bag = count.fit_transform(docs)\n",
    "print(count.vocabulary_)"
   ]
  },
  {
   "cell_type": "markdown",
   "metadata": {},
   "source": [
    "> The above shows the indixes of where the words appear in the matrix"
   ]
  },
  {
   "cell_type": "code",
   "execution_count": 32,
   "metadata": {},
   "outputs": [
    {
     "data": {
      "text/plain": [
       "<5x26 sparse matrix of type '<class 'numpy.int64'>'\n",
       "\twith 31 stored elements in Compressed Sparse Row format>"
      ]
     },
     "execution_count": 32,
     "metadata": {},
     "output_type": "execute_result"
    }
   ],
   "source": [
    "bag"
   ]
  },
  {
   "cell_type": "markdown",
   "metadata": {},
   "source": [
    "> Stores a sparse matrix since most of the documents only contain a small percentage of the overall vocabulary.\n",
    "\n",
    "However, you can covert to a normal array, if needed:"
   ]
  },
  {
   "cell_type": "code",
   "execution_count": 34,
   "metadata": {},
   "outputs": [],
   "source": [
    "# print(bag.toarray()) "
   ]
  },
  {
   "cell_type": "code",
   "execution_count": null,
   "metadata": {},
   "outputs": [],
   "source": []
  },
  {
   "cell_type": "markdown",
   "metadata": {},
   "source": [
    "#### Raw Term Frequencies\n",
    "Values are also called raw term frequencies, $tf(t,d)$ - number of times a term, $t$, appears in a document, $d$.\n",
    "\n",
    "#### Note\n",
    "- Order of the words `is not` accounted for. The same vector can be created from `hello there bill` and `there bill hello`."
   ]
  },
  {
   "cell_type": "markdown",
   "metadata": {},
   "source": [
    "#### Document sparseness"
   ]
  },
  {
   "cell_type": "code",
   "execution_count": 35,
   "metadata": {},
   "outputs": [
    {
     "data": {
      "image/png": "[encoded data removed]",
      "text/plain": [
       "<Figure size 640x480 with 1 Axes>"
      ]
     },
     "metadata": {},
     "output_type": "display_data"
    }
   ],
   "source": [
    "plt.bar(range(5), bag.toarray().mean(axis=1))\n",
    "plt.ylabel('Percent of Features $=0$')\n",
    "plt.xlabel('Sample of Documents, each bar is a document.')\n",
    "plt.show()"
   ]
  },
  {
   "cell_type": "markdown",
   "metadata": {},
   "source": [
    "#### $N-$grams\n",
    "A way to add weight to the sequencing of tokens, though it explodes the size of the feature matrix if you use multiple $N-$grams.\n",
    "\n",
    "`the sun is shining`: 1-gram $\\rightarrow$ 'the', 'sun', 'is', 'shining'  \n",
    "`the sun is shining`: 2-gram $\\rightarrow$ 'the sun', 'sun is', 'is shining'"
   ]
  },
  {
   "cell_type": "markdown",
   "metadata": {},
   "source": [
    "### Issues with text data\n",
    "- Not all tokens are words, e.g., punctuation, random numbers, ...  \n",
    "- Misspelled words - really need a spell-checking API, or hopefully these are rare. \n",
    "- Synonyms, generic and business-specific.  \n",
    "    - Create a mapping dictionary, e.g., {'title 2':['disability', 'title ii', 'disabled worker'}\n",
    "   \n",
    "- Not all words are meaningful, e.g., 'the', sometimes referred to as `stop words`. These can be removed using common lists.   \n",
    "- Words may not be common across a language, but are across the documents, e.g., some type of business specific word or maybe the name of a product in product reviews. We can use `term frequency-inverse document frequency`. This reduces the weights of words that occur frequency across documents.  \n",
    "\n",
    "$$\n",
    "tf-idf(t,d)=tf(t,d) \\times idf(t,d), \\space where \\space idf(t,d)=log\\frac{1 + n_d}{1+df(d,t)}\n",
    "$$\n",
    "\n",
    "In the above $n_d$ is the total number of documents, $df(d,t)$ is the documents that contain $t$."
   ]
  },
  {
   "cell_type": "code",
   "execution_count": 36,
   "metadata": {},
   "outputs": [
    {
     "name": "stdout",
     "output_type": "stream",
     "text": [
      "[[0.   0.   0.56 0.   0.   0.56 0.   0.   0.   0.   0.   0.   0.   0.\n",
      "  0.   0.   0.   0.   0.   0.22 0.56 0.   0.   0.   0.   0.  ]\n",
      " [0.   0.   0.   0.   0.52 0.   0.   0.38 0.   0.   0.   0.   0.   0.\n",
      "  0.52 0.   0.   0.   0.52 0.2  0.   0.   0.   0.   0.   0.  ]\n",
      " [0.46 0.   0.   0.   0.   0.   0.   0.34 0.   0.   0.   0.   0.   0.46\n",
      "  0.   0.   0.46 0.   0.   0.18 0.   0.   0.   0.46 0.   0.  ]\n",
      " [0.   0.   0.   0.   0.   0.   0.   0.   0.   0.   0.   0.   0.   0.\n",
      "  0.   0.49 0.   0.49 0.   0.19 0.   0.   0.49 0.   0.   0.49]\n",
      " [0.   0.31 0.   0.31 0.   0.   0.31 0.   0.31 0.31 0.31 0.31 0.31 0.\n",
      "  0.   0.   0.   0.   0.   0.12 0.   0.31 0.   0.   0.31 0.  ]]\n"
     ]
    }
   ],
   "source": [
    "import numpy as np\n",
    "from sklearn.feature_extraction.text import TfidfTransformer\n",
    "\n",
    "tfidf = TfidfTransformer(smooth_idf=False)\n",
    "\n",
    "tfidf = tfidf.fit_transform(bag)\n",
    "\n",
    "print(tfidf.toarray().round(2))"
   ]
  },
  {
   "cell_type": "markdown",
   "metadata": {},
   "source": [
    "#### Cleaning Text Data"
   ]
  },
  {
   "cell_type": "code",
   "execution_count": 37,
   "metadata": {},
   "outputs": [
    {
     "name": "stdout",
     "output_type": "stream",
     "text": [
      "Last 50 characters of first review:\n",
      "\n"
     ]
    },
    {
     "data": {
      "text/plain": [
       "'is seven.<br /><br />Title (Brazil): Not Available'"
      ]
     },
     "execution_count": 37,
     "metadata": {},
     "output_type": "execute_result"
    }
   ],
   "source": [
    "print('Last 50 characters of first review:\\n')\n",
    "df.loc[0, 'review'][-50:]"
   ]
  },
  {
   "cell_type": "markdown",
   "metadata": {},
   "source": [
    "> Contains HTML tags and punctuation. Some punctuation might be meaningful, e.g., emojis.\n",
    "\n",
    "We can create a cleaning function, that could be applied to training and test data. We aren't using any data specific to the test set, so this doesn't cause leakage. We'll do this with regular expressions, which can best be described as:\n",
    "\n",
    "<img src='./diagrams/cat.jpeg' style='width: 500px'>"
   ]
  },
  {
   "cell_type": "markdown",
   "metadata": {},
   "source": [
    "#### Regular Expressions\n",
    "- Very powerful, but takes time to build complex ones.  \n",
    "- See [Python's re package for lite version of documentation](https://docs.python.org/3/library/re.html).  \n",
    "- For our purpose, we just want to remove the tags and standardize the text, however, regular expressions can be used to find positions in the text and extract complex features."
   ]
  },
  {
   "cell_type": "code",
   "execution_count": 38,
   "metadata": {},
   "outputs": [
    {
     "name": "stdout",
     "output_type": "stream",
     "text": [
      "hello i liked your hat :)\n",
      "what a relief that is great news\n",
      "bill thanks i appreciate it\n"
     ]
    }
   ],
   "source": [
    "import re\n",
    "\n",
    "def preprocessor(text):\n",
    "    # find tags and replace with empty string\n",
    "    text = re.sub('<[^>]*>', '', text)\n",
    "    \n",
    "    # find emoticons\n",
    "    emoticons = re.findall(r'(?::|;|=)(?:-)?(?:\\)|\\(|D|P)', text)\n",
    "    \n",
    "    # return the cleaned text\n",
    "    text = (re.sub(r'[\\W]+', ' ', text.lower()) + ' '.join(emoticons).replace('-',''))\n",
    "    return text\n",
    "\n",
    "examples = ['Hello <Br> I liked your hat :)', \n",
    "            'What a relief! That is great news',\n",
    "            'Bill, thanks - I appreciate it'\n",
    "           ]\n",
    "\n",
    "for ex in examples:\n",
    "    print(preprocessor(ex))"
   ]
  },
  {
   "cell_type": "markdown",
   "metadata": {},
   "source": [
    "### What about `hat` versus `hats`?\n",
    "In many cases the plural forms of words don't provide additional semantic meaning. It is accepted practice to form these variations to reduce the dimensionality of the data. There are several methods, including [`stemming`](https://en.wikipedia.org/wiki/Stemming) and [`lemmatization`](https://en.wikipedia.org/wiki/Lemmatisation). We'll use `stemming` since it's simplier and less computationally expensive."
   ]
  },
  {
   "cell_type": "code",
   "execution_count": 39,
   "metadata": {},
   "outputs": [
    {
     "data": {
      "text/plain": [
       "['the', 'hat', 'were', 'great.', 'thi', 'hat', 'wa', 'amazing.']"
      ]
     },
     "execution_count": 39,
     "metadata": {},
     "output_type": "execute_result"
    }
   ],
   "source": [
    "from nltk.stem.porter import PorterStemmer\n",
    "\n",
    "porter = PorterStemmer()\n",
    "\n",
    "def tokenizer_porter(text):\n",
    "    return [porter.stem(word) for word in text.split()]\n",
    "\n",
    "tokenizer_porter('the hats were great. this hat was amazing.')"
   ]
  },
  {
   "cell_type": "markdown",
   "metadata": {},
   "source": [
    "### Custom Dictionaries\n",
    "In business contexts, there might be multiple ways to convey the same concept, e.g., in disability programs, `disability` might be written as `t2 dib`, `title ii disabled worker`, or `oasdi`."
   ]
  },
  {
   "cell_type": "code",
   "execution_count": 40,
   "metadata": {},
   "outputs": [
    {
     "name": "stdout",
     "output_type": "stream",
     "text": [
      "I have to file for t2 dib.\n",
      "I have to file for title ii disabled worker.\n",
      "I have to file for oasdi.\n"
     ]
    }
   ],
   "source": [
    "businessTerms = {'t2 dib':'disability',\n",
    "                 'title ii disabled worker':'disability', \n",
    "                 'oasdi':'disability'\n",
    "                }\n",
    "\n",
    "ex = ['I have to file for t2 dib.',\n",
    "      'I have to file for title ii disabled worker.',\n",
    "      'I have to file for oasdi.'\n",
    "     ]\n",
    "\n",
    "print(*ex, sep='\\n')"
   ]
  },
  {
   "cell_type": "code",
   "execution_count": 41,
   "metadata": {},
   "outputs": [
    {
     "name": "stdout",
     "output_type": "stream",
     "text": [
      "I have to file for t2 dib.\n",
      "<re.Match object; span=(19, 25), match='t2 dib'>\n",
      "I have to file for disability.\n",
      "\n",
      "\n",
      "I have to file for title ii disabled worker.\n",
      "<re.Match object; span=(19, 43), match='title ii disabled worker'>\n",
      "I have to file for disability.\n",
      "\n",
      "\n",
      "I have to file for oasdi.\n",
      "<re.Match object; span=(19, 24), match='oasdi'>\n",
      "I have to file for disability.\n",
      "\n",
      "\n"
     ]
    }
   ],
   "source": [
    "import re\n",
    "\n",
    "for e in ex:\n",
    "    for k in businessTerms.keys():\n",
    "        r = re.search(k, e)\n",
    "        if r:\n",
    "            print(e)\n",
    "            print(r)\n",
    "            print(re.sub(k, businessTerms[k], e))\n",
    "            print('\\n')"
   ]
  },
  {
   "cell_type": "markdown",
   "metadata": {},
   "source": [
    "> Not aware these types of replacements that would be useful for the IMDB data, but this could be useful in an actual business application."
   ]
  },
  {
   "cell_type": "markdown",
   "metadata": {},
   "source": [
    "# Stop Words\n",
    "Stop words are generally semantically meaningless and can usually be removed for analyses that are using frequency counts.\n",
    "\n",
    "If you haven't used `nltk` before, you might need to run:\n",
    "\n",
    "```python\n",
    "import nltk\n",
    "\n",
    "nltk.download('stopwords')\n",
    "```"
   ]
  },
  {
   "cell_type": "code",
   "execution_count": 42,
   "metadata": {},
   "outputs": [
    {
     "name": "stdout",
     "output_type": "stream",
     "text": [
      "Sample stop words:\n",
      "\n",
      "i\n",
      "me\n",
      "my\n",
      "myself\n",
      "we\n"
     ]
    }
   ],
   "source": [
    "from nltk.corpus import stopwords\n",
    "\n",
    "stop = stopwords.words('english')\n",
    "\n",
    "print('Sample stop words:\\n')\n",
    "print(*stop[:5], sep='\\n')"
   ]
  },
  {
   "cell_type": "code",
   "execution_count": 43,
   "metadata": {},
   "outputs": [
    {
     "data": {
      "text/plain": [
       "['hat', 'great.', 'hat', 'amazing.']"
      ]
     },
     "execution_count": 43,
     "metadata": {},
     "output_type": "execute_result"
    }
   ],
   "source": [
    "from nltk.stem.porter import PorterStemmer\n",
    "\n",
    "porter = PorterStemmer()\n",
    "\n",
    "def tokenizer_porter(text, stopwords):\n",
    "    return [porter.stem(word) for word in text.split() if word not in stopwords]\n",
    "\n",
    "tokenizer_porter('the hats were great. this hat was amazing.', stop)"
   ]
  },
  {
   "cell_type": "markdown",
   "metadata": {},
   "source": [
    "> See [translate from string to remove punctuation](https://stackoverflow.com/questions/265960/best-way-to-strip-punctuation-from-a-string)."
   ]
  },
  {
   "cell_type": "markdown",
   "metadata": {},
   "source": [
    "# `Batch` Classifier for `imdb`\n",
    "Create a training and test set. The data was already shuffled."
   ]
  },
  {
   "cell_type": "code",
   "execution_count": 44,
   "metadata": {},
   "outputs": [
    {
     "name": "stdout",
     "output_type": "stream",
     "text": [
      "Training samples: 25,000\n",
      "Test samples: 25,000\n"
     ]
    }
   ],
   "source": [
    "X_train = df.loc[:24999, 'review'].values\n",
    "y_train = df.loc[:24999, 'sentiment'].values\n",
    "\n",
    "X_test = df.loc[25000:, 'review'].values\n",
    "y_test = df.loc[25000:, 'sentiment'].values\n",
    "\n",
    "print(f'Training samples: {X_train.shape[0]:,}')\n",
    "print(f'Test samples: {X_test.shape[0]:,}')"
   ]
  },
  {
   "cell_type": "markdown",
   "metadata": {},
   "source": [
    "Ideally, we'd want to use `grid search`, but that could take an hour to run depending on the amount of parameters we are searching over. We'll take a couple liberties and see how long it takes to train one model."
   ]
  },
  {
   "cell_type": "code",
   "execution_count": 45,
   "metadata": {},
   "outputs": [
    {
     "name": "stdout",
     "output_type": "stream",
     "text": [
      "Time to fit model: 0:00:02.107672\n"
     ]
    }
   ],
   "source": [
    "import datetime\n",
    "from sklearn.pipeline import Pipeline\n",
    "from sklearn.linear_model import LogisticRegression\n",
    "from sklearn.feature_extraction.text import TfidfVectorizer\n",
    "\n",
    "st = datetime.datetime.now()\n",
    "\n",
    "tfidf = TfidfVectorizer(strip_accents='ascii', \n",
    "                        lowercase=True,\n",
    "                        stop_words='english',\n",
    "                        analyzer='word'\n",
    "                       )\n",
    "\n",
    "p = Pipeline([('vect', tfidf),\n",
    "              ('lm', LogisticRegression(C=10, solver='liblinear'))\n",
    "             ])\n",
    "\n",
    "p = p.fit(X_train, y_train)\n",
    "\n",
    "en = datetime.datetime.now()\n",
    "\n",
    "el = en - st\n",
    "print(f'Time to fit model: {el}')"
   ]
  },
  {
   "cell_type": "code",
   "execution_count": 46,
   "metadata": {},
   "outputs": [
    {
     "name": "stdout",
     "output_type": "stream",
     "text": [
      "Test accuracy: 89.04%\n"
     ]
    }
   ],
   "source": [
    "p_score =  p.score(X_test, y_test)\n",
    "print(f'Test accuracy: {p_score:.2%}')"
   ]
  },
  {
   "cell_type": "markdown",
   "metadata": {},
   "source": [
    "> Took about 4-5 seconds to run, but what if it were 25 million records instead of 25,000? Depending on your computer, 25 million records may not even fit into your RAM...\n",
    "\n",
    "#### Online learning to the rescue!\n",
    "- We can stream the documents into the model with `SGD` or `mini-batch`.  \n",
    "- We will need to add some processing utilities to clean some of the streaming data. But since we are working with one or a couple dozen records at a time, that isn't a lot of processing overhead.\n",
    "\n",
    "The tokenizer should look familiar:"
   ]
  },
  {
   "cell_type": "code",
   "execution_count": 47,
   "metadata": {},
   "outputs": [
    {
     "name": "stdout",
     "output_type": "stream",
     "text": [
      "['hi', 'bill', 'great', 'see', ':)']\n"
     ]
    }
   ],
   "source": [
    "import numpy as np\n",
    "import re\n",
    "from nltk.corpus import stopwords\n",
    "\n",
    "stop = stopwords.words('english')\n",
    "\n",
    "def tokenizer(text):\n",
    "    text = re.sub(r'<[^>]*>', '', text)\n",
    "    emoticons = re.findall(r'(?::|;|=)(?:-)?(?:\\)|\\(|D|P)', text)\n",
    "    \n",
    "    text = (re.sub(r'[\\W]+', ' ', text.lower()) + ' '.join(emoticons).replace('-',''))\n",
    "    tokens = [w for w in text.split() if w not in stop]\n",
    "    return tokens\n",
    "\n",
    "tokenizer_test = 'hi! there bill, it is great!!!! to see you :)'\n",
    "print(tokenizer(tokenizer_test))"
   ]
  },
  {
   "cell_type": "markdown",
   "metadata": {},
   "source": [
    "Then we'll need a function to stream the documents (reviews)."
   ]
  },
  {
   "cell_type": "code",
   "execution_count": 48,
   "metadata": {},
   "outputs": [
    {
     "data": {
      "text/plain": [
       "('\"In 1974, the teenager Martha Moxley (Maggie Grace) moves to the high-class area of Belle Haven, Greenwich, Connecticut. On the Mischief Night, eve of Halloween, she was murdered in the backyard of her house and her murder remained unsolved. Twenty-two years later, the writer Mark Fuhrman (Christopher Meloni), who is a former LA detective that has fallen in disgrace for perjury in O.J. Simpson trial and moved to Idaho, decides to investigate the case with his partner Stephen Weeks (Andrew Mitchell) with the purpose of writing a book. The locals squirm and do not welcome them, but with the support of the retired detective Steve Carroll (Robert Forster) that was in charge of the investigation in the 70\\'s, they discover the criminal and a net of power and money to cover the murder.<br /><br />\"\"Murder in Greenwich\"\" is a good TV movie, with the true story of a murder of a fifteen years old girl that was committed by a wealthy teenager whose mother was a Kennedy. The powerful and rich family used their influence to cover the murder for more than twenty years. However, a snoopy detective and convicted perjurer in disgrace was able to disclose how the hideous crime was committed. The screenplay shows the investigation of Mark and the last days of Martha in parallel, but there is a lack of the emotion in the dramatization. My vote is seven.<br /><br />Title (Brazil): Not Available\"',\n",
       " 1)"
      ]
     },
     "execution_count": 48,
     "metadata": {},
     "output_type": "execute_result"
    }
   ],
   "source": [
    "def stream_docs(path):\n",
    "    with open(path, 'r', encoding='utf-8') as csv:\n",
    "        next(csv)\n",
    "        for line in csv:\n",
    "            text, label = line[:-3], int(line[-2])\n",
    "            yield text, label\n",
    "            \n",
    "stream = stream_docs(file_name)\n",
    "next(stream)"
   ]
  },
  {
   "cell_type": "code",
   "execution_count": 55,
   "metadata": {},
   "outputs": [
    {
     "data": {
      "text/plain": [
       "('\"To understand \"\"Crash Course\"\" in the right context, you must understand the 80\\'s in TV. Most TV shows didn\\'t have any point. The sitcom outpopulated the drama at least 3 to 1. They were still figuring out where the lines were so that they could cross them. (TV Shows like \"\"Hail to the Chief\"\" was quite the bold step!) This made-for-TV movie \"\"Crash Course\"\" featured an All-Star cast, bringing together members from all the 80\\'s classics: \"\"227\"\", \"\"Family Ties\"\", \"\"Who\\'s the Boss?\"\", et al. Directors must\\'ve had a certain penchant for those all-star movies then. Still, this movie offered very light fare and a simplistic view of heroism and maturity. And that\\'s not bad sometimes. Viva Soleil Moon Frye.\"',\n",
       " 1)"
      ]
     },
     "execution_count": 55,
     "metadata": {},
     "output_type": "execute_result"
    }
   ],
   "source": [
    "next(stream)"
   ]
  },
  {
   "cell_type": "markdown",
   "metadata": {},
   "source": [
    "We'll need another function to get `mini batches` of data."
   ]
  },
  {
   "cell_type": "code",
   "execution_count": 56,
   "metadata": {},
   "outputs": [
    {
     "data": {
      "text/plain": [
       "(['\"In 1974, the teenager Martha Moxley (Maggie Grace) moves to the high-class area of Belle Haven, Greenwich, Connecticut. On the Mischief Night, eve of Halloween, she was murdered in the backyard of her house and her murder remained unsolved. Twenty-two years later, the writer Mark Fuhrman (Christopher Meloni), who is a former LA detective that has fallen in disgrace for perjury in O.J. Simpson trial and moved to Idaho, decides to investigate the case with his partner Stephen Weeks (Andrew Mitchell) with the purpose of writing a book. The locals squirm and do not welcome them, but with the support of the retired detective Steve Carroll (Robert Forster) that was in charge of the investigation in the 70\\'s, they discover the criminal and a net of power and money to cover the murder.<br /><br />\"\"Murder in Greenwich\"\" is a good TV movie, with the true story of a murder of a fifteen years old girl that was committed by a wealthy teenager whose mother was a Kennedy. The powerful and rich family used their influence to cover the murder for more than twenty years. However, a snoopy detective and convicted perjurer in disgrace was able to disclose how the hideous crime was committed. The screenplay shows the investigation of Mark and the last days of Martha in parallel, but there is a lack of the emotion in the dramatization. My vote is seven.<br /><br />Title (Brazil): Not Available\"',\n",
       "  '\"OK... so... I really like Kris Kristofferson and his usual easy going delivery of lines in his movies. Age has helped him with his soft spoken low energy style and he will steal a scene effortlessly. But, Disappearance is his misstep. Holy Moly, this was a bad movie! <br /><br />I must give kudos to the cinematography and and the actors, including Kris, for trying their darndest to make sense from this goofy, confusing story! None of it made sense and Kris probably didn\\'t understand it either and he was just going through the motions hoping someone would come up to him and tell him what it was all about! <br /><br />I don\\'t care that everyone on this movie was doing out of love for the project, or some such nonsense... I\\'ve seen low budget movies that had a plot for goodness sake! This had none, zilcho, nada, zippo, empty of reason... a complete waste of good talent, scenery and celluloid! <br /><br />I rented this piece of garbage for a buck, and I want my money back! I want my 2 hours back I invested on this Grade F waste of my time! Don\\'t watch this movie, or waste 1 minute of your valuable time while passing through a room where it\\'s playing or even open up the case that is holding the DVD! Believe me, you\\'ll thank me for the advice!\"',\n",
       "  '\"***SPOILER*** Do not read this, if you think about watching that movie, although it would be a waste of time. (By the way: The plot is so predictable that it does not make any difference if you read this or not anyway)<br /><br />If you are wondering whether to see \"\"Coyote Ugly\"\" or not: don\\'t! It\\'s not worth either the money for the ticket or the VHS / DVD. A typical \"\"Chick-Feel-Good-Flick\"\", one could say. The plot itself is as shallow as it can be, a ridiculous and uncritical version of the American Dream. The young good-looking girl from a small town becoming a big success in New York. The few desperate attempts of giving the movie any depth fail, such as the \"\"tragic\"\" accident of the father, the \"\"difficulties\"\" of Violet\\'s relationship with her boyfriend, and so on. McNally (Director) tries to arouse the audience\\'s pity and sadness put does not have any chance to succeed in this attempt due to the bad script and the shallow acting. Especially Piper Perabo completely fails in convincing one of \"\"Jersey\\'s\"\" fear of singing in front of an audience. The only good (and quite funny thing) about \"\"Coyote Ugly\"\" is John Goodman, who represents the small ray of hope of this movie.<br /><br />I was very astonished, that Jerry Bruckheimer produced this movie. First \"\"Gone In 60 Seconds\"\" and now this... what happened to great movies like \"\"The Rock\"\" and \"\"Con Air\"\"? THAT was true Bruckheimer stuff.<br /><br />If you are looking for a superficial movie with good looking women just to have a relaxed evening, you should better go and see \"\"Charlie\\'s Angels\"\" (it\\'s much more funny, entertaining and self-ironic) instead of this flick.<br /><br />Two thumbs down (3 out of 10).\"',\n",
       "  'hi for all the people who have seen this wonderful movie im sure thet you would have liked it as much as i. i love the songs once you have seen the show you can sing along as though you are part of the show singing and dancing . dancing and singing. the song ONE is an all time fave musical song too and the strutters at the end with the mirror its so oh you have to watch this one',\n",
       "  '\"I recently bought the DVD, forgetting just how much I hated the movie version of \"\"A Chorus Line.\"\" Every change the director Attenborough made to the story failed.<br /><br />By making the Director-Cassie relationship so prominent, the entire ensemble-premise of the musical sails out the window.<br /><br />Some of the musical numbers are sped up and rushed. The show\\'s hit song gets the entire meaning shattered when it is given to Cassie\\'s character.<br /><br />The overall staging is very self-conscious.<br /><br />The only reason I give it a 2, is because a few of the great numbers are still able to be enjoyed despite the film\\'s attempt to squeeze every bit of joy and spontaneity out of it.\"',\n",
       "  '\"Leave it to Braik to put on a good show. Finally he and Zorak are living their own lives outside of Spac Ghost Coast To Coast. I have to say that I love both of these shows a whole lot. They are completely what started Adult Swim. Brak made it big with an album that came out in the year 2000. It may not have been platinum, but his show was really popular to tons of people out there that love Adult Swims shows. I have to say that out of all the Adult Swim shows with no plot, this has to be the one with the most none plot ever made. That is why I like it so much, it is just such a classic in the Adult Swim history. I believe this is just such a great show, if you don\\'t like it. Hey there were tons who hated it and tons who loved it.\"',\n",
       "  '\"Nathan Detroit (Frank Sinatra) is the manager of the New York\\'s longest- established floating craps game, and he needs $1000 to secure a new location. Confident of his odds, he bets the city\\'s highest-roller, Sky Masterson (Marlon Brando), that he can\\'t woo uptight missionary Sarah Brown (Jean Simmons). \\'Guys and Dolls (1955)\\' is such a great musical because it deftly blends the contrasting styles of film and stage. During a dazzling opening sequence, crowds of pedestrians move in rhythm, stopping and starting as though responding to backstage cues. Even the walking movements themselves are stylised and angular, halfway between a walk and a dance. Mankiewicz\\'s New York City is a glittering flurry of art deco colour and movement, a fantasy world so completely removed from reality that even the business of underground gambling and criminal thuggery seems perfectly genial. <br /><br />As I write this review, I\\'ve just received word that Jean Simmons has passed away, age 80. This, unbelievably, was the first time I\\'d seen her in a film, yet she dazzled me from the beginning. Her idealistic and sexually-repressed Sarah comes out of her shell following an alcohol binge in Havana, letting loose with an adorably playful rendition of \"\"If I Were A Bell.\"\" Even though both Simmons and Brando were non-singers, producer Sam Goldwyn decided not to dub their vocals, contending that \"\"maybe you don\\'t sound so good, but at least it\\'s you.\"\" Despite Goldwyn\\'s backhanded confidence, the pair both do well to carry entire musical numbers themselves. Simmons suggests the same child-like liveliness that Audrey Hepburn might have brought to the role, and Brando exudes such self-assurance and charisma that it doesn\\'t matter that his singing voice isn\\'t quite there.\"',\n",
       "  '\"To understand \"\"Crash Course\"\" in the right context, you must understand the 80\\'s in TV. Most TV shows didn\\'t have any point. The sitcom outpopulated the drama at least 3 to 1. They were still figuring out where the lines were so that they could cross them. (TV Shows like \"\"Hail to the Chief\"\" was quite the bold step!) This made-for-TV movie \"\"Crash Course\"\" featured an All-Star cast, bringing together members from all the 80\\'s classics: \"\"227\"\", \"\"Family Ties\"\", \"\"Who\\'s the Boss?\"\", et al. Directors must\\'ve had a certain penchant for those all-star movies then. Still, this movie offered very light fare and a simplistic view of heroism and maturity. And that\\'s not bad sometimes. Viva Soleil Moon Frye.\"',\n",
       "  '\"I\\'ve been impressed with Chavez\\'s stance against globalisation for sometime now, but it wasn\\'t until I saw the film at the Amsterdam documentary international film festival that I realize what he has really achieved. This film tells the story of coup/conspiracy by Venezuela\\'s elite, the oil companies and oil loving corrupt western governments, to remove democratically elected president Chavez, and return Venezuela back to a brutal dictatorship. This film is must for anyone who believes in freedom and justice, and is also a lesson to the rest of world ! I commend the people of Venezuela for taking matter into their own hands, and saving their country from the likes of Halliburton and the Bush regime.\"',\n",
       "  '\"This movie is directed by Renny Harlin the finnish miracle. Stallone is Gabe Walker. Cat and Mouse on the mountains with ruthless terrorists. Renny Harlin knows how to direct actionmovie. Stallone needed this role to get back on track. Snowy mountain is very good place for action movie and who is better to direct movie where is snow, ice, cold and bad weather than finnish man. Action is good! Music in the film is spectacular. The bad guy is John Litghow, other stars Micheal Rooker ( The portrait of serialkiller), Janine Turner ( Strong Medicine). The is placed in beautiful place and it is very exciting movie. Overall good movie ****/*****<br /><br />Remember Extreme ääliöt: special collectors edition, with good extras. Comig soon in Finland straight to video.\"',\n",
       "  '\"I once lived in the u.p and let me tell you what. I didn\\'t have the foggyest idea what the heck this \"\"bear walk \"\" is. I never heard of it the whole 10 years I was up there. It was really funny in the beginning but went down hill quickly.\"',\n",
       "  '\"Hidden Frontier is notable for being the longest running internet-based Star Trek fan series. While the production quality is not on a par with fan productions like Starship Exeter, or New Voyages, Hidden Frontier concentrates largely on story, and in that regard it does very well indeed.<br /><br />Hidden Frontier has no physical sets; instead actors are filmed against a greenscreen, and the backgrounds inserted digitally. One of Hidden Frontier\\'s greatest achievements is the sheer volume of work they have produced. One of the ways in which this is achieved is by inserting the virtual sets at the time of filming, instead of in post-production. While this does save a great deal of time, it\\'s also worth noting that the quality of the resultant footage is not as high as if it had been produced in post-production, though it still serves its purpose. <br /><br />While it may not be everyone\\'s cup of tea, Hidden Frontier is well worth a shot, though you might be best to start off watching the third season, since this is where the producers really start to hit their stride.\"',\n",
       "  '\"It\\'s a while ago, that I have seen Sleuth (1972) with two great actors Michael Caine and Laurence Olivier. Michael Caine is back, but he is now the husband and Jude Law the lover of his wife. The story is still the same and it\\'s a fantastic play.<br /><br />During the movie I always had the feeling to watch a play. That\\'s one of the reasons I dislike this remake of a classic. When I watch a movie adapted a play I still must feel to see a movie and not just a play. Director Kenneth Brannigan did some marvelous movies in the past, but this time he missed. Another reason was the look of the movie. The design was modern, stylish clean, uncomfortable and cold. I never got the feeling that somebody ever lived in that house. The photography wasn\\'t bad, but the lightening was awful. Sometimes there was blue light, dark, green light, to round it up not friendly for eyes.<br /><br />The acting was really good. Michael Caine\\'s and Jude Law\\'s perform at their best. I really would like to see these 2 guys playing together on stage. But I have to confess I never was a fan of Jude Law. The weakest part was the mid part. I remember that in the original that this part was still very mysterious and just marvelous directed. I tried to watch it twice and always in the mid part I felt asleep. The end part is better and more interesting. Sleuth (2007) isn\\'t awful, but it seems to be more a movie for critics than for the audience. Sleuth (1972) is still a masterpiece and much more entertaining than Sleuth (2007).\"',\n",
       "  '\"What is it about the French? First, they (apparently) like Jerry Lewis a lot more than the US does. Second, they (seem) to like Edgar Allan Poe\\'s work more than just about anyone else does. It\\'s got to be the \"\"Beaudelaire effect\"\".<br /><br />Don\\'t get me wrong...I\\'m a Poe fan myself. But this trilogy manages to make three of Poe\\'s below-average stories into...well, I\\'m not sure what they\\'re made into.<br /><br />\"\"Toby Dammit\"\" is a fine Fellini film, but it has nothing to do with Poe\\'s story, at least in terms of theme. It\\'s enjoyable on the first viewing. Terence Stamp does a good job with an interesting role. However, it has nothing whatsoever to do with Poe or spirits of the dead.<br /><br />\"\"Metzergenstein\"\" is a big mess. How did Vadim\\'s films get produced? It\\'s just awful...not even up to amateur film school standards. Depending on the DVD menu you have, try to skip it and save your time.<br /><br />\"\"William Wilson\"\" is actually the segment that is most faithful to Poe\\'s work. It does not have much style, though, even if it includes the strangest snowball fight I think that I have ever seen on film. (It looks like the boys are throwing tissues, or maybe handkerchiefs, that have been rolled up into balls.) <br /><br />My advice is to skip \"\"Metzergenstein\"\", watch \"\"William Wilson\"\", and then, if you\\'re a Fellini fan (I\\'m not) keep \"\"Toby Dammit\"\" on while you cook dinner or make a snack.\"',\n",
       "  '\"This very strange movie is unlike anything made in the west at the time. With its tumultuous emotions and net of visions, dreams, and startling images, its effect is both beautiful and unsettling. The actors are choreographed more like dance than acting. It contains the only dream sequence I know of that actually resembles a real nightmare (sorry, Dali fans).\"',\n",
       "  '\"I saw this movie on the strength of the single positive review and I can only imagine that guy is a shill.<br /><br />The acting of the female lead is actually quite good, but the entire film is just so excruciatingly boring I could hardly bear to sit through it. This is the very definition of dullness.<br /><br />So far, this film is rated as 8 out of 10 on 7 votes. That must mean the director, director\\'s girlfriend, producer, actress and drinking buddies have given their own film a 10.<br /><br />For the rest of you, who simply want to be entertained or enjoy a good story, avoid this.<br /><br />This man on the street shall give it a 2 out of 10.<br /><br />FDA note: while this movie can be used as an aide to obtaining a good nights sleep, no medicinal value is implied or offered.\"',\n",
       "  '\"There are some great philosophical questions. What is the purpose of life? What happens when we die? And WHY DO THEY MAKE MOVIES THIS BAD??? The premise is absurd. Thre acting is one dimensional. The special effects are overdone. And the movie is one unending gun battle among some of the lousiest shots Hollywood ever produced. But then, if they had been good shots, everybody would have been dead in the first five minutes and there would be no movie. Too bad it didn\\'t happen that way. Tempted to turn it off several times, I stuck with it to see just how bad it could get. Glad I did because (SPOILER?) the last line is the crowning stupidity of the whole dopey, dismal scenario.It is not even worthy of second feature status at a third rate drive-in in off season. Apart from the general awfulness of the film, I worry deeply about its impact on young audiences. The Americans crank out crap like this and then wonder why events like Columbine happen. This is truly banal cinema on a Brobdingnagian scale!\"',\n",
       "  '\"I was cast as the Surfer Dude in the beach scenes. Almost got cast as the muscle guy, since the real muscle guy was really really late that day. Pauly had my brother and I (the skateboarder in front of the tattoo place) do some vj stuff in between takes live from Venice since he was still doing his MTV thing. This movie is really good as well. Would it have made my top 100 if I wasn\\'t in it........?\"',\n",
       "  '\"I had high hopes for this one until they changed the name to \\'The Shepherd : Border Patrol, the lamest movie name ever, what was wrong with just \\'The Shepherd\\'. This is a by the numbers action flick that tips its hat at many classic Van Damme films. There is a nice bit of action in a bar which reminded me of hard target and universal soldier but directed with no intensity or flair which is a shame. There is one great line about \\'being p*ss drunk and carrying a rabbit\\' and some OK action scenes let down by the cheapness of it all. A lot of the times the dialogue doesn\\'t match the characters mouth and the stunt men fall down dead a split second before even being shot. The end fight is one of the better Van Damme fights except the Director tries to go a bit too John Woo and fails also introducing flashbacks which no one really cares about just gets in the way of the action which is the whole point of a van Damme film.<br /><br />Not good, not bad, just average generic action.\"',\n",
       "  '\"Set in and near a poor working class town in the mountains of rural Italy, it\\'s a story of madness. The landscape may be quite picturesque, but there\\'s madness herein, concealed behind the mask of a person who seems outwardly normal. This person kills little children.<br /><br />In style and tone this film resembles Dario Argento\\'s famous Italian giallos, those fascinating whodunit horror films, except that Argento\\'s films are much better looking. Still, the visuals in Fulci\\'s \"\"Don\\'t Torture A Duckling\"\" are competent, with some interesting compositions and lighting. Lightning and thunder on a rainy night enhances suspense in one sequence wherein one of the \"\"ducklings\"\" is vulnerably alone.<br /><br />In one sequence the gore is a bit overdone. But this is no slasher film. A legitimate theme undergirds the story. And that theme is that madness can take many unexpected forms, not just the obvious delusions of people who practice voodoo or black magic.<br /><br />Plenty of red herrings render the puzzle solution difficult if the viewer doesn\\'t assume an agenda on the part of the director. Don\\'t dismiss someone who might not seem to be a suspect. The twist near the end provides good misdirection. However, in one scene midway through, a line of dialogue could have been added to clarify the relationship between two characters, one of whom is the murderer. The film\\'s finale takes place on a beautiful mountaintop with the wind whistling in the background. We see flashbacks to clues and get insights into the killer\\'s mindset.<br /><br />I don\\'t care for the film\\'s widescreen projection. But background music is effective, and ranges from jarringly creepy at the beginning to low-key jazz, to indigenous Italian songs. Acting is generally average, though in a couple of cases, it\\'s a bit overdone.<br /><br />Though not as visually brilliant as Argento\\'s giallos, \"\"Don\\'t Torture A Duckling\"\" nevertheless is a fine film, one that contains a thematic storyline and enough of a whodunit puzzle to interest most viewers who like thrillers and murder mysteries.\"'],\n",
       " [1, 0, 0, 1, 0, 1, 1, 1, 1, 1, 0, 1, 0, 0, 1, 0, 0, 1, 0, 1])"
      ]
     },
     "execution_count": 56,
     "metadata": {},
     "output_type": "execute_result"
    }
   ],
   "source": [
    "def get_minibatch(doc_stream, size):\n",
    "    docs, y = [], []\n",
    "    try:\n",
    "        for _ in range(size):\n",
    "            text, label = next(doc_stream)\n",
    "            docs.append(text)\n",
    "            y.append(label)\n",
    "    except StopIteration:\n",
    "        return None, None\n",
    "    return docs, y\n",
    "\n",
    "get_minibatch(stream_docs(file_name), 20)"
   ]
  },
  {
   "cell_type": "markdown",
   "metadata": {},
   "source": [
    "`CountVectorizer` requires holding the data in-memory, but `HashingVectorizer` can be used.\n",
    "\n",
    "From [scikit-learn](https://scikit-learn.org/stable/modules/generated/sklearn.feature_extraction.text.HashingVectorizer.html#sklearn.feature_extraction.text.HashingVectorizer):\n",
    "\n",
    "This text vectorizer implementation uses the hashing trick to find the token string name to feature integer index mapping.\n",
    "\n",
    "This strategy has several advantages:\n",
    "\n",
    "- it is very low memory scalable to large datasets as there is no need to store a vocabulary dictionary in memory.  \n",
    "- it is fast to pickle and un-pickle as it holds no state besides the constructor parameters.  \n",
    "- it can be used in a streaming (partial fit) or parallel pipeline as there is no state computed during fit.  \n",
    "\n",
    "There are also a couple of cons (vs using a CountVectorizer with an in-memory vocabulary):\n",
    "\n",
    "- there is no way to compute the inverse transform (from feature indices to string feature names) which can be a problem when trying to introspect which features are most important to a model.  \n",
    "- there can be collisions: distinct tokens can be mapped to the same feature index. However in practice this is rarely an issue if n_features is large enough (e.g. 2 ** 18 for text classification problems).  \n",
    "- no IDF weighting as this would render the transformer stateful.\n",
    "\n",
    "`tl:dr`: it lets you use term frequencies without holding the entire data in-memory, but you cannot use `tf-idf` or look at the vocabulary."
   ]
  },
  {
   "cell_type": "code",
   "execution_count": 57,
   "metadata": {},
   "outputs": [
    {
     "name": "stdout",
     "output_type": "stream",
     "text": [
      "Ready to model!\n"
     ]
    }
   ],
   "source": [
    "from sklearn.feature_extraction.text import HashingVectorizer\n",
    "from sklearn.linear_model import SGDClassifier\n",
    "\n",
    "# tokenizer is the function we created a few cells above\n",
    "vect = HashingVectorizer(decode_error='ignore',\n",
    "                         n_features=2**21,\n",
    "                         preprocessor=None,\n",
    "                         tokenizer=tokenizer\n",
    "                        )\n",
    "\n",
    "clf = SGDClassifier(loss='log_loss', random_state=1)\n",
    "doc_stream = stream_docs(path=file_name)\n",
    "\n",
    "print('Ready to model!')"
   ]
  },
  {
   "cell_type": "code",
   "execution_count": 58,
   "metadata": {},
   "outputs": [
    {
     "name": "stderr",
     "output_type": "stream",
     "text": [
      "0% [##############################] 100% | ETA: 00:00:00\n",
      "Total time elapsed: 00:00:09\n"
     ]
    }
   ],
   "source": [
    "import pyprind\n",
    "\n",
    "iter_no = 50\n",
    "\n",
    "pbar = pyprind.ProgBar(iter_no)\n",
    "\n",
    "classes = np.array([0, 1])\n",
    "for _ in range(iter_no):\n",
    "    X_train, y_train = get_minibatch(doc_stream, size=500)\n",
    "    if not X_train:\n",
    "        break\n",
    "    X_train = vect.transform(X_train)\n",
    "    clf.partial_fit(X_train, y_train, classes=classes)\n",
    "    pbar.update()"
   ]
  },
  {
   "cell_type": "code",
   "execution_count": 59,
   "metadata": {},
   "outputs": [
    {
     "name": "stdout",
     "output_type": "stream",
     "text": [
      "Test accuracy: 86.93%\n"
     ]
    }
   ],
   "source": [
    "X_test, y_test = get_minibatch(doc_stream, size=25000)\n",
    "X_test = vect.transform(X_test)\n",
    "\n",
    "t_scr = clf.score(X_test, y_test)\n",
    "print(f'Test accuracy: {t_scr:.2%}')"
   ]
  },
  {
   "cell_type": "markdown",
   "metadata": {},
   "source": [
    "> Very similar performance using `online modeling`. If the training data was actually really huge, `online` learning may have had to be our default. For our `online` model, only `500` documents were loaded into memory at any one time."
   ]
  },
  {
   "cell_type": "markdown",
   "metadata": {},
   "source": [
    "# Brief interlude for topic modeling\n",
    "50,000 reviews is way too many documents for individuals to read in order to get an impression of what people are saying. We can use `Latent Dirichlet Allocation` to reduce the text into topic vectors so we understand what is being stated (generally) in the documents with relatively little overhead.\n",
    "\n",
    "In a nutshell, it finds words that frequently appear together across documents. It uses two matrices (1) `document-to-topic` and (2) `word-to-topic` that when multiplied together reproduce the bag-of-words matrix.  Like PCA, you `need to define the number of topics`.\n",
    "\n",
    "Starting with the word frequencies of the `imdb` data:"
   ]
  },
  {
   "cell_type": "code",
   "execution_count": 61,
   "metadata": {},
   "outputs": [
    {
     "name": "stdout",
     "output_type": "stream",
     "text": [
      "Time to complete: 0:02:06.903794\n"
     ]
    }
   ],
   "source": [
    "import datetime\n",
    "\n",
    "from sklearn.feature_extraction.text import CountVectorizer\n",
    "\n",
    "st = datetime.datetime.now()\n",
    "\n",
    "# exclude words that occur in more than 10% of the documents\n",
    "# include most common 5000 words\n",
    "count = CountVectorizer(stop_words='english', max_df=.1, max_features=5000)\n",
    "\n",
    "X = count.fit_transform(df['review'].values)\n",
    "\n",
    "from sklearn.decomposition import LatentDirichletAllocation\n",
    "\n",
    "lda = LatentDirichletAllocation(n_components=10, \n",
    "                               random_state=10, \n",
    "                               learning_method='batch'\n",
    "                              )\n",
    "\n",
    "X_topics = lda.fit_transform(X)\n",
    "\n",
    "en = datetime.datetime.now()\n",
    "\n",
    "el = en-st\n",
    "\n",
    "print(f'Time to complete: {el}')"
   ]
  },
  {
   "cell_type": "markdown",
   "metadata": {},
   "source": [
    "Word importances for each of the 5,000 words for each topic:"
   ]
  },
  {
   "cell_type": "code",
   "execution_count": 62,
   "metadata": {},
   "outputs": [
    {
     "data": {
      "text/plain": [
       "(10, 5000)"
      ]
     },
     "execution_count": 62,
     "metadata": {},
     "output_type": "execute_result"
    }
   ],
   "source": [
    "lda.components_.shape"
   ]
  },
  {
   "cell_type": "code",
   "execution_count": 63,
   "metadata": {},
   "outputs": [
    {
     "name": "stdout",
     "output_type": "stream",
     "text": [
      "Topic 1\n",
      "comedy,music,fun,song,jokes\n",
      "Topic 2\n",
      "role,performance,father,wife,comedy\n",
      "Topic 3\n",
      "series,episode,tv,episodes,john\n",
      "Topic 4\n",
      "horror,killer,house,gore,dead\n",
      "Topic 5\n",
      "book,novel,read,woman,performance\n",
      "Topic 6\n",
      "dvd,effects,horror,special,game\n",
      "Topic 7\n",
      "action,feel,music,script,audience\n",
      "Topic 8\n",
      "war,human,american,men,documentary\n",
      "Topic 9\n",
      "worst,minutes,guy,money,stupid\n",
      "Topic 10\n",
      "girl,school,sex,girls,family\n"
     ]
    }
   ],
   "source": [
    "top_words = 5\n",
    "\n",
    "feature_names = count.get_feature_names_out()\n",
    "\n",
    "for topic_idx, topic in enumerate(lda.components_):\n",
    "    print(f'Topic {topic_idx+1}')\n",
    "    print(','.join([feature_names[i] for i in topic.argsort()[:-top_words - 1:-1]]))"
   ]
  },
  {
   "cell_type": "markdown",
   "metadata": {},
   "source": [
    "> You would need to convert these into logical categories to present to your boss. You would want to check the topics match the text, since LDA can extract topics that aren't much stronger than random noise."
   ]
  },
  {
   "cell_type": "code",
   "execution_count": 64,
   "metadata": {},
   "outputs": [
    {
     "name": "stdout",
     "output_type": "stream",
     "text": [
      "\n",
      "Comedy 1:\n",
      "AristoCats is such a terrific Disney classic that I just loved so much as a kid. Still to this day I can't resist watching it, it's just such a wonderful and charming film with great animation and lovely songs. I really miss the animation films like AristoCats, they had perfect voices not to mention ...\n",
      "\n",
      "Comedy 2:\n",
      "I think Lion King 1 1/2 is one of the best sequels ever as if not the best out of the three Lion King movies! In the movie Timon and Pumbaa tell us where they came from and having trouble fitting in with others such as Timon having trouble digging tunnels with other Meercats! Timon and Pumbaa journe ...\n",
      "\n",
      "Comedy 3:\n",
      "I previously thought that this film was the lamest of the Muppet films. I would like now to retract that statement. In my opinion now, the lamest MUppet film was the TV movie IT'S A VERY MERRY MUPPET Christmas, am IT'S A WONDERFUL LIFE rip off that was truly dreadful. MUPPETS TAKE MANHATTAN is nothi ...\n"
     ]
    }
   ],
   "source": [
    "comedy = X_topics[:, 0].argsort()[::-1]\n",
    "for iter_idx, movie_idx in enumerate(comedy[:3]):\n",
    "    print(f'\\nComedy {iter_idx+1}:')\n",
    "    print(df['review'][movie_idx][:300], '...')"
   ]
  },
  {
   "cell_type": "code",
   "execution_count": 65,
   "metadata": {},
   "outputs": [
    {
     "name": "stdout",
     "output_type": "stream",
     "text": [
      "Topic 1\n",
      "comedy,music,fun,song,jokes\n",
      "- 1:\n",
      "AristoCats is such a terrific Disney classic that I just loved so much as a kid. Still to this day I can't resist watching it, it's just such a wonderful and charming film with great animation and lovely songs. I really miss the animation films like AristoCats, they had perfect voices not to mention ...\n",
      "- 2:\n",
      "I think Lion King 1 1/2 is one of the best sequels ever as if not the best out of the three Lion King movies! In the movie Timon and Pumbaa tell us where they came from and having trouble fitting in with others such as Timon having trouble digging tunnels with other Meercats! Timon and Pumbaa journe ...\n",
      "- 3:\n",
      "I previously thought that this film was the lamest of the Muppet films. I would like now to retract that statement. In my opinion now, the lamest MUppet film was the TV movie IT'S A VERY MERRY MUPPET Christmas, am IT'S A WONDERFUL LIFE rip off that was truly dreadful. MUPPETS TAKE MANHATTAN is nothi ...\n",
      "------------\n",
      "Topic 2\n",
      "role,performance,father,wife,comedy\n",
      "- 1:\n",
      "Aside from the discotheque scenes that epitomize the swinging sixties (especially with everyone dancing to instrumental versions of Monkees hits), I am surprised how well this lightweight farce holds up 37 years later, but indeed it does thanks to the breezy execution of its deception-based plot and ...\n",
      "- 2:\n",
      "Arthur Bach needs to grow up, but that is unfortunately not the only thing he needs to do. According to his extremely rich father, Arthur has to marry a certain wealthy Susan Johnson or he's cut off from the family money ($750 million dollars worth). The problem is, Arthur doesn't love Susan (though ...\n",
      "- 3:\n",
      "Robert Stack never really got over losing a Best Supporting Actor Oscar for his role as Kyle in \"Written on the Wind\" to Anthony Quinn's 12-minute performance in \"Lust for Life.\" Stack plays the deeply disturbed, alcoholic son of an oil tycoon. He has lived his life in the shadow of the friend with  ...\n",
      "------------\n",
      "Topic 3\n",
      "series,episode,tv,episodes,john\n",
      "- 1:\n",
      "My comment is limited generally to the first season, 1959-60.<br /><br />This superb series was one of the first to be televised in color, and it was highly influential in persuading Americans that they had to buy a color television set, which was about $800 in 1959, the equivalent of more than $3,0 ...\n",
      "- 2:\n",
      "This show was a really good one in many ways, although certainly an atypical Western with the hero (?) riding around on a motorcycle rather than a horse, due to the 1914 setting, very \"late\" for a Western, which tend usually to be set between 1866 and 1890. I remember some controversy about its canc ...\n",
      "- 3:\n",
      "I got this as a complete set of 9 episodes on 5 DVDs. I knew nothing about the history of the series. Season 1 of the series has the pilot episode as episode 1 and then 3 more episodes for a total of 4. Season 2 lists 5 episodes with the last being Beyond Good and Evil with an original Air Date of 7 ...\n",
      "------------\n",
      "Topic 4\n",
      "horror,killer,house,gore,dead\n",
      "- 1:\n",
      "Like CURSE OF THE KOMODO was for the creature feature genre, Jim Wynorski's CHEERLEADER MASSACRE is a straight-faced parody of slasher movies, such as SLUMBER PARTY MASSACRE. A psycho, who has escaped from his padded cell,(..he was sent to the loony bin thanks to killing eleven people)is working acr ...\n",
      "- 2:\n",
      "A group of friends discover gold deep inside an old mine. But by taking the gold and thinking they've hit it big, they awaken a long dead miner who's Hell Bent on protecting his treasure. \"Miner's Massacre\" is a chintzy b-horror movie in the extreme. You've got all your familiar clichés, your group  ...\n",
      "- 3:\n",
      "House of Dracula works from the same basic premise as House of Frankenstein from the year before; namely that Universal's three most famous monsters; Dracula, Frankenstein's Monster and The Wolf Man are appearing in the movie together. Naturally, the film is rather messy therefore, but the fact that ...\n",
      "------------\n",
      "Topic 5\n",
      "book,novel,read,woman,performance\n",
      "- 1:\n",
      "Contains Spoilers<br /><br />Luchino Visconti's film adaptation of Thomas Mann's novella is visually, if not philosophically, faithful to its source (Britten's opera offers a more faithful reading of the Apollonian/Dionysian struggles which consume the aging writer). It is certainly one of the most  ...\n",
      "- 2:\n",
      "A well-made and imaginative production, refreshingly free from cliché, this somewhat picaresque affair recounts a tale of a close friendship that develops between a man and a boy under less than ideal conditions: the man an escaped convict who has kidnapped the youth for his value as a hostage. Expe ...\n",
      "- 3:\n",
      "The movie concerns about Philip(Leslie Howard)he's a serious but handicapped medicine student .He falls fatally in love with a heartless, predatory waitress called Mildred(Bette Davis).She leaves him ,engaging with others(Alan Hale,Reginald Denny).Meanwhile he is romanced with another suitors(Kay Jo ...\n",
      "------------\n",
      "Topic 6\n",
      "dvd,effects,horror,special,game\n",
      "- 1:\n",
      "When I first got my N64 when I was five or six,I fell in love with it,and my first game was Super Mario 64.And I LOVED IT!The graphics were great for it's time,a good plot,great courses and above all,the best music I heard in a Nintendo game.<br /><br />I don't remember the plot completely,but I thi ...\n",
      "- 2:\n",
      "Rather annoying that reviewers keep comparing this to Planet Earth... Of *course* Planet Earth is better - it has much much more of the same. Earth is like an extended trailer for the Planet Earth series, and as such, is inevitably inferior and simplified. But that is not comparing like with like.<b ...\n",
      "- 3:\n",
      "Fire And Ice is an animated film set in a fantasy world. The film is about a village that is destroyed by a giant glacier which is the home of the evil ice lord named Nekron. The only survivor of the village is a young man named Larn who sets out to avenge those who were killed by the glacier. The i ...\n",
      "------------\n",
      "Topic 7\n",
      "action,feel,music,script,audience\n",
      "- 1:\n",
      "For me, \"Late Chrysanthemums\" was interesting not only because it was my first film of Naruse I completely enjoyed, but because it was technically as modern and innovative as his 30s work I've seen. This doesn't mean innovative editing in the way Godard would introduce it with \"Breathless\" in 1959,  ...\n",
      "- 2:\n",
      "Even with only 6,000 bucks and a cast of part-time actors, Christopher Nolan was a master. Nolan is in my opinion, the next great and our first taste of Nolan doesn't contradict that.<br /><br />None of the problems that constantly plaque and discredit the low budget independent picture haunt Nolan  ...\n",
      "- 3:\n",
      "Unfortunately I have to agree with the critic written by halopes.<br /><br />For a short film the cinematography, costumes, sets, sound, editing and everything else is very, very good. This might seem surprising at first but I was told that the technical crew working on this consisted of professiona ...\n",
      "------------\n",
      "Topic 8\n",
      "war,human,american,men,documentary\n",
      "- 1:\n",
      "\"Nobi\" or \"Fires On the Plain\" is a film that is so excellent on so many levels, that not enough good things can be said about it. My only regret is that I was not able to see this 1959 film sooner.<br /><br />Being something of a film purist, I tend to look at films for their artistic merits based  ...\n",
      "- 2:\n",
      "Set in a California detention camp in an indistinct future, an English film crew capture proceedings as young students and political dissidents are put on trial under a fictional 'Insurrection Act' that allows the United States government to suspend civil liberties for its own citizens in cases of e ...\n",
      "- 3:\n",
      "I just recently saw this movie in hopes of seeing an accurate portrayal of the bloodiest battle of the 20th Century. I got what I had expected and so much more. Just to think I came across this movie by luck, before I had never even heard of it. It's a German film made in 1993 so I suppose I can't b ...\n",
      "------------\n",
      "Topic 9\n",
      "worst,minutes,guy,money,stupid\n",
      "- 1:\n",
      "Wow. That's about as much as I can say right now. Who writes this stuff? Who produces this stuff? What self-respecting actor would agree to 'act' in this stuff? Oh my GOD! I don't know how I made it through this movie, but I assume the fact that I had had like 8 cups of coffee that day was the key e ...\n",
      "- 2:\n",
      "Holy @#%& this movie was still warm and juicy from the pile it was made with. I tried to watch this pile of festering waste but found it easier to slash my wrists and slug back a shooter of Lysol floor cleaner than endure more than half of the crap that was on my screen. I rank this well below anyth ...\n",
      "- 3:\n",
      "Sam Mraovich should never be allowed to touch a camera again. If he does he should be arrested on the spot...at the very least for petty larceny. Anybody who pays even a dime to rent any of his garbage should file a claim and be compensated. This was innocently my first viewing of his \"work\"...and i ...\n",
      "------------\n",
      "Topic 10\n",
      "girl,school,sex,girls,family\n",
      "- 1:\n",
      "This movie is about Viola (Amanda Bynes) and her quest to beat her school Cornwell boys team after they kicked the girls team out. So she goes to the rival school Illaria and joins the boys team, in doing so she falls for Duke (Channing Tatum) who thinks shes a guy and likes Olivia (Laura Ramsey) wh ...\n",
      "- 2:\n",
      "I don't think I will include any spoilers but If I do, I can cover my butt. \"The Last American Virgin\" came in a time were such teenage coming of age/high school sex romps were the rave. Films such as \"Prepies\" (1984), \"Hot Times\" (1974) and the popular \"Porky's \" (1981) were making mucho money. Yet ...\n",
      "- 3:\n",
      "I am only 11 years old but I discovered Full House when I was about five and watched it constantly until I was seven. Then I grew older and figured Full House could wait and that I had \"more important\" things to do. Plus there was also the fact that my younger brother who watched it faithfully with  ...\n",
      "------------\n"
     ]
    }
   ],
   "source": [
    "feature_names = count.get_feature_names_out()\n",
    "\n",
    "for topic_idx, topic in enumerate(lda.components_):\n",
    "    print(f'Topic {topic_idx+1}')\n",
    "    print(','.join([feature_names[i] for i in topic.argsort()[:-top_words - 1:-1]]))\n",
    "    \n",
    "    topic = X_topics[:, topic_idx].argsort()[::-1]\n",
    "    \n",
    "    for iter_idx, movie_idx in enumerate(topic[:3]):\n",
    "        print(f'- {iter_idx+1}:')\n",
    "        print(df['review'][movie_idx][:300], '...')\n",
    "        \n",
    "    print ('------------')"
   ]
  },
  {
   "cell_type": "markdown",
   "metadata": {},
   "source": [
    "> Seem reasonable?"
   ]
  },
  {
   "cell_type": "markdown",
   "metadata": {},
   "source": [
    "# Readings and Resources\n",
    "- [scikit-learn out of core learning](https://scikit-learn.org/0.15/modules/scaling_strategies.html)\n",
    "- [Google's tutorial on regular expressions](https://developers.google.com/edu/python/regular-expressions)  \n",
    "- [Python's regular expression documentation](https://docs.python.org/3/library/re.html)  \n",
    "- [Standord NLP](https://nlp.stanford.edu/IR-book/html/htmledition/stemming-and-lemmatization-1.html)  \n",
    "- [NLTK Book - Natural Language Processing with Python](https://www.nltk.org/book/)  \n",
    "- [Latent Dirichlet Allocation paper by Blei and el.](https://www.jmlr.org/papers/volume3/blei03a/blei03a.pdf)  \n",
    "- [IncrementialPCA](https://scikit-learn.org/stable/modules/generated/sklearn.decomposition.IncrementalPCA.html)  \n",
    "- [Text Mining with R Online Textbook](https://www.tidytextmining.com)"
   ]
  },
  {
   "cell_type": "code",
   "execution_count": null,
   "metadata": {},
   "outputs": [],
   "source": [
    "!rm imdb.zip imdb.csv"
   ]
  },
  {
   "cell_type": "code",
   "execution_count": null,
   "metadata": {},
   "outputs": [],
   "source": []
  }
 ],
 "metadata": {
  "kernelspec": {
   "display_name": "Python 3 (ipykernel)",
   "language": "python",
   "name": "python3"
  },
  "language_info": {
   "codemirror_mode": {
    "name": "ipython",
    "version": 3
   },
   "file_extension": ".py",
   "mimetype": "text/x-python",
   "name": "python",
   "nbconvert_exporter": "python",
   "pygments_lexer": "ipython3",
   "version": "3.12.4"
  },
  "toc": {
   "base_numbering": 1,
   "nav_menu": {},
   "number_sections": false,
   "sideBar": true,
   "skip_h1_title": false,
   "title_cell": "Table of Contents",
   "title_sidebar": "Contents",
   "toc_cell": false,
   "toc_position": {},
   "toc_section_display": true,
   "toc_window_display": true
  }
 },
 "nbformat": 4,
 "nbformat_minor": 4
}
